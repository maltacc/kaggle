{
  "cells": [
    {
      "cell_type": "code",
      "source": [
        "!pip install --upgrade azureml-sdk[notebooks]"
      ],
      "outputs": [
        {
          "output_type": "stream",
          "name": "stdout",
          "text": "Requirement already up-to-date: azureml-sdk[notebooks] in /anaconda/envs/azureml_py38/lib/python3.8/site-packages (1.48.0)\nRequirement already satisfied, skipping upgrade: azureml-train-automl-client~=1.48.0 in /anaconda/envs/azureml_py38/lib/python3.8/site-packages (from azureml-sdk[notebooks]) (1.48.0)\nRequirement already satisfied, skipping upgrade: azureml-pipeline~=1.48.0 in /anaconda/envs/azureml_py38/lib/python3.8/site-packages (from azureml-sdk[notebooks]) (1.48.0)\nRequirement already satisfied, skipping upgrade: azureml-train-core~=1.48.0 in /anaconda/envs/azureml_py38/lib/python3.8/site-packages (from azureml-sdk[notebooks]) (1.48.0)\nRequirement already satisfied, skipping upgrade: azureml-core~=1.48.0 in /anaconda/envs/azureml_py38/lib/python3.8/site-packages (from azureml-sdk[notebooks]) (1.48.0)\nRequirement already satisfied, skipping upgrade: azureml-dataset-runtime[fuse]~=1.48.0 in /anaconda/envs/azureml_py38/lib/python3.8/site-packages (from azureml-sdk[notebooks]) (1.48.0)\nRequirement already satisfied, skipping upgrade: azureml-widgets~=1.48.0; extra == \"notebooks\" in /anaconda/envs/azureml_py38/lib/python3.8/site-packages (from azureml-sdk[notebooks]) (1.48.0)\nRequirement already satisfied, skipping upgrade: azureml-contrib-notebook~=1.48.0; extra == \"notebooks\" in /anaconda/envs/azureml_py38/lib/python3.8/site-packages (from azureml-sdk[notebooks]) (1.48.0)\nRequirement already satisfied, skipping upgrade: azureml-telemetry~=1.48.0 in /anaconda/envs/azureml_py38/lib/python3.8/site-packages (from azureml-train-automl-client~=1.48.0->azureml-sdk[notebooks]) (1.48.0)\nRequirement already satisfied, skipping upgrade: azureml-automl-core~=1.48.0 in /anaconda/envs/azureml_py38/lib/python3.8/site-packages (from azureml-train-automl-client~=1.48.0->azureml-sdk[notebooks]) (1.48.0)\nRequirement already satisfied, skipping upgrade: azureml-pipeline-core~=1.48.0 in /anaconda/envs/azureml_py38/lib/python3.8/site-packages (from azureml-pipeline~=1.48.0->azureml-sdk[notebooks]) (1.48.0)\nRequirement already satisfied, skipping upgrade: azureml-pipeline-steps~=1.48.0 in /anaconda/envs/azureml_py38/lib/python3.8/site-packages (from azureml-pipeline~=1.48.0->azureml-sdk[notebooks]) (1.48.0)\nRequirement already satisfied, skipping upgrade: azureml-train-restclients-hyperdrive~=1.48.0 in /anaconda/envs/azureml_py38/lib/python3.8/site-packages (from azureml-train-core~=1.48.0->azureml-sdk[notebooks]) (1.48.0)\nRequirement already satisfied, skipping upgrade: pkginfo in /anaconda/envs/azureml_py38/lib/python3.8/site-packages (from azureml-core~=1.48.0->azureml-sdk[notebooks]) (1.8.3)\nRequirement already satisfied, skipping upgrade: python-dateutil<3.0.0,>=2.7.3 in /anaconda/envs/azureml_py38/lib/python3.8/site-packages (from azureml-core~=1.48.0->azureml-sdk[notebooks]) (2.8.2)\nRequirement already satisfied, skipping upgrade: azure-graphrbac<1.0.0,>=0.40.0 in /anaconda/envs/azureml_py38/lib/python3.8/site-packages (from azureml-core~=1.48.0->azureml-sdk[notebooks]) (0.61.1)\nRequirement already satisfied, skipping upgrade: jmespath<2.0.0 in /anaconda/envs/azureml_py38/lib/python3.8/site-packages (from azureml-core~=1.48.0->azureml-sdk[notebooks]) (0.10.0)\nRequirement already satisfied, skipping upgrade: azure-core<2.0.0 in /anaconda/envs/azureml_py38/lib/python3.8/site-packages (from azureml-core~=1.48.0->azureml-sdk[notebooks]) (1.26.0)\nRequirement already satisfied, skipping upgrade: azure-common<2.0.0,>=1.1.12 in /anaconda/envs/azureml_py38/lib/python3.8/site-packages (from azureml-core~=1.48.0->azureml-sdk[notebooks]) (1.1.28)\nRequirement already satisfied, skipping upgrade: paramiko<3.0.0,>=2.0.8 in /anaconda/envs/azureml_py38/lib/python3.8/site-packages (from azureml-core~=1.48.0->azureml-sdk[notebooks]) (2.11.0)\nRequirement already satisfied, skipping upgrade: ndg-httpsclient<=0.5.1 in /anaconda/envs/azureml_py38/lib/python3.8/site-packages (from azureml-core~=1.48.0->azureml-sdk[notebooks]) (0.5.1)\nRequirement already satisfied, skipping upgrade: azure-mgmt-resource<22.0.0,>=15.0.0 in /anaconda/envs/azureml_py38/lib/python3.8/site-packages (from azureml-core~=1.48.0->azureml-sdk[notebooks]) (21.2.1)\nRequirement already satisfied, skipping upgrade: PyJWT<3.0.0 in /anaconda/envs/azureml_py38/lib/python3.8/site-packages (from azureml-core~=1.48.0->azureml-sdk[notebooks]) (2.4.0)\nRequirement already satisfied, skipping upgrade: requests[socks]<3.0.0,>=2.19.1 in /anaconda/envs/azureml_py38/lib/python3.8/site-packages (from azureml-core~=1.48.0->azureml-sdk[notebooks]) (2.28.1)\nRequirement already satisfied, skipping upgrade: pytz in /anaconda/envs/azureml_py38/lib/python3.8/site-packages (from azureml-core~=1.48.0->azureml-sdk[notebooks]) (2022.5)\nRequirement already satisfied, skipping upgrade: msal<2.0.0,>=1.15.0 in /anaconda/envs/azureml_py38/lib/python3.8/site-packages (from azureml-core~=1.48.0->azureml-sdk[notebooks]) (1.20.0)\nRequirement already satisfied, skipping upgrade: azure-mgmt-authorization<4,>=0.40.0 in /anaconda/envs/azureml_py38/lib/python3.8/site-packages (from azureml-core~=1.48.0->azureml-sdk[notebooks]) (2.0.0)\nRequirement already satisfied, skipping upgrade: contextlib2<22.0.0 in /anaconda/envs/azureml_py38/lib/python3.8/site-packages (from azureml-core~=1.48.0->azureml-sdk[notebooks]) (21.6.0)\nRequirement already satisfied, skipping upgrade: azure-mgmt-storage<21.0.0,>=16.0.0 in /anaconda/envs/azureml_py38/lib/python3.8/site-packages (from azureml-core~=1.48.0->azureml-sdk[notebooks]) (20.1.0)\nRequirement already satisfied, skipping upgrade: packaging<22.0,>=20.0 in /anaconda/envs/azureml_py38/lib/python3.8/site-packages (from azureml-core~=1.48.0->azureml-sdk[notebooks]) (21.3)\nRequirement already satisfied, skipping upgrade: SecretStorage<4.0.0 in /anaconda/envs/azureml_py38/lib/python3.8/site-packages (from azureml-core~=1.48.0->azureml-sdk[notebooks]) (3.3.3)\nRequirement already satisfied, skipping upgrade: msrestazure<=0.6.4,>=0.4.33 in /anaconda/envs/azureml_py38/lib/python3.8/site-packages (from azureml-core~=1.48.0->azureml-sdk[notebooks]) (0.6.4)\nRequirement already satisfied, skipping upgrade: msal-extensions<=1.0.0,>=0.3.0 in /anaconda/envs/azureml_py38/lib/python3.8/site-packages (from azureml-core~=1.48.0->azureml-sdk[notebooks]) (0.3.1)\nRequirement already satisfied, skipping upgrade: urllib3<2.0.0,>=1.23 in /anaconda/envs/azureml_py38/lib/python3.8/site-packages (from azureml-core~=1.48.0->azureml-sdk[notebooks]) (1.26.12)\nRequirement already satisfied, skipping upgrade: cryptography!=1.9,!=2.0.*,!=2.1.*,!=2.2.*,<41 in /anaconda/envs/azureml_py38/lib/python3.8/site-packages (from azureml-core~=1.48.0->azureml-sdk[notebooks]) (38.0.1)\nRequirement already satisfied, skipping upgrade: humanfriendly<11.0,>=4.7 in /anaconda/envs/azureml_py38/lib/python3.8/site-packages (from azureml-core~=1.48.0->azureml-sdk[notebooks]) (10.0)\nRequirement already satisfied, skipping upgrade: pyopenssl<23.0.0 in /anaconda/envs/azureml_py38/lib/python3.8/site-packages (from azureml-core~=1.48.0->azureml-sdk[notebooks]) (22.0.0)\nRequirement already satisfied, skipping upgrade: knack~=0.10.0 in /anaconda/envs/azureml_py38/lib/python3.8/site-packages (from azureml-core~=1.48.0->azureml-sdk[notebooks]) (0.10.0)\nRequirement already satisfied, skipping upgrade: msrest<=0.7.1,>=0.5.1 in /anaconda/envs/azureml_py38/lib/python3.8/site-packages (from azureml-core~=1.48.0->azureml-sdk[notebooks]) (0.7.1)\nRequirement already satisfied, skipping upgrade: jsonpickle<3.0.0 in /anaconda/envs/azureml_py38/lib/python3.8/site-packages (from azureml-core~=1.48.0->azureml-sdk[notebooks]) (2.2.0)\nRequirement already satisfied, skipping upgrade: argcomplete<3 in /anaconda/envs/azureml_py38/lib/python3.8/site-packages (from azureml-core~=1.48.0->azureml-sdk[notebooks]) (2.0.0)\nRequirement already satisfied, skipping upgrade: backports.tempfile in /anaconda/envs/azureml_py38/lib/python3.8/site-packages (from azureml-core~=1.48.0->azureml-sdk[notebooks]) (1.0)\nRequirement already satisfied, skipping upgrade: adal<=1.2.7,>=1.2.0 in /anaconda/envs/azureml_py38/lib/python3.8/site-packages (from azureml-core~=1.48.0->azureml-sdk[notebooks]) (1.2.7)\nRequirement already satisfied, skipping upgrade: pathspec<1.0.0 in /anaconda/envs/azureml_py38/lib/python3.8/site-packages (from azureml-core~=1.48.0->azureml-sdk[notebooks]) (0.10.1)\nRequirement already satisfied, skipping upgrade: azure-mgmt-keyvault<11.0.0,>=0.40.0 in /anaconda/envs/azureml_py38/lib/python3.8/site-packages (from azureml-core~=1.48.0->azureml-sdk[notebooks]) (10.1.0)\nRequirement already satisfied, skipping upgrade: docker<7.0.0 in /anaconda/envs/azureml_py38/lib/python3.8/site-packages (from azureml-core~=1.48.0->azureml-sdk[notebooks]) (6.0.0)\nRequirement already satisfied, skipping upgrade: azure-mgmt-containerregistry<11,>=8.2.0 in /anaconda/envs/azureml_py38/lib/python3.8/site-packages (from azureml-core~=1.48.0->azureml-sdk[notebooks]) (10.0.0)\nRequirement already satisfied, skipping upgrade: azureml-dataprep<4.9.0a,>=4.8.0a in /anaconda/envs/azureml_py38/lib/python3.8/site-packages (from azureml-dataset-runtime[fuse]~=1.48.0->azureml-sdk[notebooks]) (4.8.3)\nRequirement already satisfied, skipping upgrade: pyarrow<=9.0.0,>=0.17.0 in /anaconda/envs/azureml_py38/lib/python3.8/site-packages (from azureml-dataset-runtime[fuse]~=1.48.0->azureml-sdk[notebooks]) (9.0.0)\nRequirement already satisfied, skipping upgrade: numpy!=1.19.3; sys_platform == \"linux\" in /anaconda/envs/azureml_py38/lib/python3.8/site-packages (from azureml-dataset-runtime[fuse]~=1.48.0->azureml-sdk[notebooks]) (1.21.6)\nRequirement already satisfied, skipping upgrade: fusepy<4.0.0,>=3.0.1; extra == \"fuse\" in /anaconda/envs/azureml_py38/lib/python3.8/site-packages (from azureml-dataset-runtime[fuse]~=1.48.0->azureml-sdk[notebooks]) (3.0.1)\nRequirement already satisfied, skipping upgrade: ipywidgets<8.0.0,>=7.0.0 in /anaconda/envs/azureml_py38/lib/python3.8/site-packages (from azureml-widgets~=1.48.0; extra == \"notebooks\"->azureml-sdk[notebooks]) (7.7.1)\nRequirement already satisfied, skipping upgrade: markupsafe<2.1.0 in /anaconda/envs/azureml_py38/lib/python3.8/site-packages (from azureml-widgets~=1.48.0; extra == \"notebooks\"->azureml-sdk[notebooks]) (2.0.1)\nRequirement already satisfied, skipping upgrade: azure-storage-blob>=12.6.0 in /anaconda/envs/azureml_py38/lib/python3.8/site-packages (from azureml-widgets~=1.48.0; extra == \"notebooks\"->azureml-sdk[notebooks]) (12.13.0)\nRequirement already satisfied, skipping upgrade: jinja2<=2.11.2 in /anaconda/envs/azureml_py38/lib/python3.8/site-packages (from azureml-widgets~=1.48.0; extra == \"notebooks\"->azureml-sdk[notebooks]) (2.11.2)\nRequirement already satisfied, skipping upgrade: papermill<2 in /anaconda/envs/azureml_py38/lib/python3.8/site-packages (from azureml-contrib-notebook~=1.48.0; extra == \"notebooks\"->azureml-sdk[notebooks]) (1.2.1)\nRequirement already satisfied, skipping upgrade: ipython in /anaconda/envs/azureml_py38/lib/python3.8/site-packages (from azureml-contrib-notebook~=1.48.0; extra == \"notebooks\"->azureml-sdk[notebooks]) (8.5.0)\nRequirement already satisfied, skipping upgrade: ipykernel in /anaconda/envs/azureml_py38/lib/python3.8/site-packages (from azureml-contrib-notebook~=1.48.0; extra == \"notebooks\"->azureml-sdk[notebooks]) (6.8.0)\nRequirement already satisfied, skipping upgrade: jupyter-client<7 in /anaconda/envs/azureml_py38/lib/python3.8/site-packages (from azureml-contrib-notebook~=1.48.0; extra == \"notebooks\"->azureml-sdk[notebooks]) (6.1.12)\nRequirement already satisfied, skipping upgrade: nbconvert<6 in /anaconda/envs/azureml_py38/lib/python3.8/site-packages (from azureml-contrib-notebook~=1.48.0; extra == \"notebooks\"->azureml-sdk[notebooks]) (5.6.1)\nRequirement already satisfied, skipping upgrade: applicationinsights in /anaconda/envs/azureml_py38/lib/python3.8/site-packages (from azureml-telemetry~=1.48.0->azureml-train-automl-client~=1.48.0->azureml-sdk[notebooks]) (0.11.10)\nRequirement already satisfied, skipping upgrade: six>=1.5 in /anaconda/envs/azureml_py38/lib/python3.8/site-packages (from python-dateutil<3.0.0,>=2.7.3->azureml-core~=1.48.0->azureml-sdk[notebooks]) (1.16.0)\nRequirement already satisfied, skipping upgrade: typing-extensions>=4.0.1 in /anaconda/envs/azureml_py38/lib/python3.8/site-packages (from azure-core<2.0.0->azureml-core~=1.48.0->azureml-sdk[notebooks]) (4.4.0)\nRequirement already satisfied, skipping upgrade: pynacl>=1.0.1 in /anaconda/envs/azureml_py38/lib/python3.8/site-packages (from paramiko<3.0.0,>=2.0.8->azureml-core~=1.48.0->azureml-sdk[notebooks]) (1.5.0)\nRequirement already satisfied, skipping upgrade: bcrypt>=3.1.3 in /anaconda/envs/azureml_py38/lib/python3.8/site-packages (from paramiko<3.0.0,>=2.0.8->azureml-core~=1.48.0->azureml-sdk[notebooks]) (4.0.1)\nRequirement already satisfied, skipping upgrade: pyasn1>=0.1.1 in /anaconda/envs/azureml_py38/lib/python3.8/site-packages (from ndg-httpsclient<=0.5.1->azureml-core~=1.48.0->azureml-sdk[notebooks]) (0.4.8)\nRequirement already satisfied, skipping upgrade: azure-mgmt-core<2.0.0,>=1.3.2 in /anaconda/envs/azureml_py38/lib/python3.8/site-packages (from azure-mgmt-resource<22.0.0,>=15.0.0->azureml-core~=1.48.0->azureml-sdk[notebooks]) (1.3.2)\nRequirement already satisfied, skipping upgrade: idna<4,>=2.5 in /anaconda/envs/azureml_py38/lib/python3.8/site-packages (from requests[socks]<3.0.0,>=2.19.1->azureml-core~=1.48.0->azureml-sdk[notebooks]) (3.4)\nRequirement already satisfied, skipping upgrade: charset-normalizer<3,>=2 in /anaconda/envs/azureml_py38/lib/python3.8/site-packages (from requests[socks]<3.0.0,>=2.19.1->azureml-core~=1.48.0->azureml-sdk[notebooks]) (2.1.1)\nRequirement already satisfied, skipping upgrade: certifi>=2017.4.17 in /anaconda/envs/azureml_py38/lib/python3.8/site-packages (from requests[socks]<3.0.0,>=2.19.1->azureml-core~=1.48.0->azureml-sdk[notebooks]) (2022.9.24)\nRequirement already satisfied, skipping upgrade: PySocks!=1.5.7,>=1.5.6; extra == \"socks\" in /anaconda/envs/azureml_py38/lib/python3.8/site-packages (from requests[socks]<3.0.0,>=2.19.1->azureml-core~=1.48.0->azureml-sdk[notebooks]) (1.7.1)\nRequirement already satisfied, skipping upgrade: pyparsing!=3.0.5,>=2.0.2 in /anaconda/envs/azureml_py38/lib/python3.8/site-packages (from packaging<22.0,>=20.0->azureml-core~=1.48.0->azureml-sdk[notebooks]) (3.0.9)\nRequirement already satisfied, skipping upgrade: jeepney>=0.6 in /anaconda/envs/azureml_py38/lib/python3.8/site-packages (from SecretStorage<4.0.0->azureml-core~=1.48.0->azureml-sdk[notebooks]) (0.8.0)\nRequirement already satisfied, skipping upgrade: portalocker<3,>=1.0; python_version >= \"3.5\" and platform_system != \"Windows\" in /anaconda/envs/azureml_py38/lib/python3.8/site-packages (from msal-extensions<=1.0.0,>=0.3.0->azureml-core~=1.48.0->azureml-sdk[notebooks]) (2.6.0)\nRequirement already satisfied, skipping upgrade: cffi>=1.12 in /anaconda/envs/azureml_py38/lib/python3.8/site-packages (from cryptography!=1.9,!=2.0.*,!=2.1.*,!=2.2.*,<41->azureml-core~=1.48.0->azureml-sdk[notebooks]) (1.15.1)\nRequirement already satisfied, skipping upgrade: pygments in /anaconda/envs/azureml_py38/lib/python3.8/site-packages (from knack~=0.10.0->azureml-core~=1.48.0->azureml-sdk[notebooks]) (2.13.0)\nRequirement already satisfied, skipping upgrade: pyyaml in /anaconda/envs/azureml_py38/lib/python3.8/site-packages (from knack~=0.10.0->azureml-core~=1.48.0->azureml-sdk[notebooks]) (6.0)\nRequirement already satisfied, skipping upgrade: tabulate in /anaconda/envs/azureml_py38/lib/python3.8/site-packages (from knack~=0.10.0->azureml-core~=1.48.0->azureml-sdk[notebooks]) (0.9.0)\nRequirement already satisfied, skipping upgrade: requests-oauthlib>=0.5.0 in /anaconda/envs/azureml_py38/lib/python3.8/site-packages (from msrest<=0.7.1,>=0.5.1->azureml-core~=1.48.0->azureml-sdk[notebooks]) (1.3.1)\nRequirement already satisfied, skipping upgrade: isodate>=0.6.0 in /anaconda/envs/azureml_py38/lib/python3.8/site-packages (from msrest<=0.7.1,>=0.5.1->azureml-core~=1.48.0->azureml-sdk[notebooks]) (0.6.1)\nRequirement already satisfied, skipping upgrade: backports.weakref in /anaconda/envs/azureml_py38/lib/python3.8/site-packages (from backports.tempfile->azureml-core~=1.48.0->azureml-sdk[notebooks]) (1.0.post1)\nRequirement already satisfied, skipping upgrade: websocket-client>=0.32.0 in /anaconda/envs/azureml_py38/lib/python3.8/site-packages (from docker<7.0.0->azureml-core~=1.48.0->azureml-sdk[notebooks]) (1.4.1)\nRequirement already satisfied, skipping upgrade: jsonschema in /anaconda/envs/azureml_py38/lib/python3.8/site-packages (from azureml-dataprep<4.9.0a,>=4.8.0a->azureml-dataset-runtime[fuse]~=1.48.0->azureml-sdk[notebooks]) (4.16.0)\nRequirement already satisfied, skipping upgrade: cloudpickle<3.0.0,>=1.1.0 in /anaconda/envs/azureml_py38/lib/python3.8/site-packages (from azureml-dataprep<4.9.0a,>=4.8.0a->azureml-dataset-runtime[fuse]~=1.48.0->azureml-sdk[notebooks]) (1.6.0)\nRequirement already satisfied, skipping upgrade: azure-identity==1.7.0 in /anaconda/envs/azureml_py38/lib/python3.8/site-packages (from azureml-dataprep<4.9.0a,>=4.8.0a->azureml-dataset-runtime[fuse]~=1.48.0->azureml-sdk[notebooks]) (1.7.0)\nRequirement already satisfied, skipping upgrade: azureml-dataprep-rslex~=2.15.0dev0 in /anaconda/envs/azureml_py38/lib/python3.8/site-packages (from azureml-dataprep<4.9.0a,>=4.8.0a->azureml-dataset-runtime[fuse]~=1.48.0->azureml-sdk[notebooks]) (2.15.1)\nRequirement already satisfied, skipping upgrade: dotnetcore2<4.0.0,>=3.0.0 in /anaconda/envs/azureml_py38/lib/python3.8/site-packages (from azureml-dataprep<4.9.0a,>=4.8.0a->azureml-dataset-runtime[fuse]~=1.48.0->azureml-sdk[notebooks]) (3.1.23)\nRequirement already satisfied, skipping upgrade: azureml-dataprep-native<39.0.0,>=38.0.0 in /anaconda/envs/azureml_py38/lib/python3.8/site-packages (from azureml-dataprep<4.9.0a,>=4.8.0a->azureml-dataset-runtime[fuse]~=1.48.0->azureml-sdk[notebooks]) (38.0.0)\nRequirement already satisfied, skipping upgrade: jupyterlab-widgets>=1.0.0; python_version >= \"3.6\" in /anaconda/envs/azureml_py38/lib/python3.8/site-packages (from ipywidgets<8.0.0,>=7.0.0->azureml-widgets~=1.48.0; extra == \"notebooks\"->azureml-sdk[notebooks]) (1.1.1)\nRequirement already satisfied, skipping upgrade: ipython-genutils~=0.2.0 in /anaconda/envs/azureml_py38/lib/python3.8/site-packages (from ipywidgets<8.0.0,>=7.0.0->azureml-widgets~=1.48.0; extra == \"notebooks\"->azureml-sdk[notebooks]) (0.2.0)\nRequirement already satisfied, skipping upgrade: traitlets>=4.3.1 in /anaconda/envs/azureml_py38/lib/python3.8/site-packages (from ipywidgets<8.0.0,>=7.0.0->azureml-widgets~=1.48.0; extra == \"notebooks\"->azureml-sdk[notebooks]) (5.5.0)\nRequirement already satisfied, skipping upgrade: widgetsnbextension~=3.6.0 in /anaconda/envs/azureml_py38/lib/python3.8/site-packages (from ipywidgets<8.0.0,>=7.0.0->azureml-widgets~=1.48.0; extra == \"notebooks\"->azureml-sdk[notebooks]) (3.6.1)\nRequirement already satisfied, skipping upgrade: entrypoints in /anaconda/envs/azureml_py38/lib/python3.8/site-packages (from papermill<2->azureml-contrib-notebook~=1.48.0; extra == \"notebooks\"->azureml-sdk[notebooks]) (0.4)\nRequirement already satisfied, skipping upgrade: future in /anaconda/envs/azureml_py38/lib/python3.8/site-packages (from papermill<2->azureml-contrib-notebook~=1.48.0; extra == \"notebooks\"->azureml-sdk[notebooks]) (0.18.2)\nRequirement already satisfied, skipping upgrade: click in /anaconda/envs/azureml_py38/lib/python3.8/site-packages (from papermill<2->azureml-contrib-notebook~=1.48.0; extra == \"notebooks\"->azureml-sdk[notebooks]) (8.1.3)\nRequirement already satisfied, skipping upgrade: ansiwrap in /anaconda/envs/azureml_py38/lib/python3.8/site-packages (from papermill<2->azureml-contrib-notebook~=1.48.0; extra == \"notebooks\"->azureml-sdk[notebooks]) (0.8.4)\nRequirement already satisfied, skipping upgrade: tqdm>=4.32.2 in /anaconda/envs/azureml_py38/lib/python3.8/site-packages (from papermill<2->azureml-contrib-notebook~=1.48.0; extra == \"notebooks\"->azureml-sdk[notebooks]) (4.64.1)\nRequirement already satisfied, skipping upgrade: nbformat in /anaconda/envs/azureml_py38/lib/python3.8/site-packages (from papermill<2->azureml-contrib-notebook~=1.48.0; extra == \"notebooks\"->azureml-sdk[notebooks]) (5.2.0)\nRequirement already satisfied, skipping upgrade: tenacity in /anaconda/envs/azureml_py38/lib/python3.8/site-packages (from papermill<2->azureml-contrib-notebook~=1.48.0; extra == \"notebooks\"->azureml-sdk[notebooks]) (8.1.0)\nRequirement already satisfied, skipping upgrade: stack-data in /anaconda/envs/azureml_py38/lib/python3.8/site-packages (from ipython->azureml-contrib-notebook~=1.48.0; extra == \"notebooks\"->azureml-sdk[notebooks]) (0.5.1)\nRequirement already satisfied, skipping upgrade: prompt-toolkit<3.1.0,>3.0.1 in /anaconda/envs/azureml_py38/lib/python3.8/site-packages (from ipython->azureml-contrib-notebook~=1.48.0; extra == \"notebooks\"->azureml-sdk[notebooks]) (3.0.28)\nRequirement already satisfied, skipping upgrade: jedi>=0.16 in /anaconda/envs/azureml_py38/lib/python3.8/site-packages (from ipython->azureml-contrib-notebook~=1.48.0; extra == \"notebooks\"->azureml-sdk[notebooks]) (0.18.0)\nRequirement already satisfied, skipping upgrade: decorator in /anaconda/envs/azureml_py38/lib/python3.8/site-packages (from ipython->azureml-contrib-notebook~=1.48.0; extra == \"notebooks\"->azureml-sdk[notebooks]) (5.1.1)\nRequirement already satisfied, skipping upgrade: matplotlib-inline in /anaconda/envs/azureml_py38/lib/python3.8/site-packages (from ipython->azureml-contrib-notebook~=1.48.0; extra == \"notebooks\"->azureml-sdk[notebooks]) (0.1.6)\nRequirement already satisfied, skipping upgrade: pexpect>4.3; sys_platform != \"win32\" in /anaconda/envs/azureml_py38/lib/python3.8/site-packages (from ipython->azureml-contrib-notebook~=1.48.0; extra == \"notebooks\"->azureml-sdk[notebooks]) (4.8.0)\nRequirement already satisfied, skipping upgrade: backcall in /anaconda/envs/azureml_py38/lib/python3.8/site-packages (from ipython->azureml-contrib-notebook~=1.48.0; extra == \"notebooks\"->azureml-sdk[notebooks]) (0.2.0)\nRequirement already satisfied, skipping upgrade: pickleshare in /anaconda/envs/azureml_py38/lib/python3.8/site-packages (from ipython->azureml-contrib-notebook~=1.48.0; extra == \"notebooks\"->azureml-sdk[notebooks]) (0.7.5)\nRequirement already satisfied, skipping upgrade: tornado<7.0,>=4.2 in /anaconda/envs/azureml_py38/lib/python3.8/site-packages (from ipykernel->azureml-contrib-notebook~=1.48.0; extra == \"notebooks\"->azureml-sdk[notebooks]) (6.2)\nRequirement already satisfied, skipping upgrade: debugpy<2.0,>=1.0.0 in /anaconda/envs/azureml_py38/lib/python3.8/site-packages (from ipykernel->azureml-contrib-notebook~=1.48.0; extra == \"notebooks\"->azureml-sdk[notebooks]) (1.6.3)\nRequirement already satisfied, skipping upgrade: nest-asyncio in /anaconda/envs/azureml_py38/lib/python3.8/site-packages (from ipykernel->azureml-contrib-notebook~=1.48.0; extra == \"notebooks\"->azureml-sdk[notebooks]) (1.5.6)\nRequirement already satisfied, skipping upgrade: jupyter-core>=4.6.0 in /anaconda/envs/azureml_py38/lib/python3.8/site-packages (from jupyter-client<7->azureml-contrib-notebook~=1.48.0; extra == \"notebooks\"->azureml-sdk[notebooks]) (4.11.2)\nRequirement already satisfied, skipping upgrade: pyzmq>=13 in /anaconda/envs/azureml_py38/lib/python3.8/site-packages (from jupyter-client<7->azureml-contrib-notebook~=1.48.0; extra == \"notebooks\"->azureml-sdk[notebooks]) (24.0.1)\nRequirement already satisfied, skipping upgrade: testpath in /anaconda/envs/azureml_py38/lib/python3.8/site-packages (from nbconvert<6->azureml-contrib-notebook~=1.48.0; extra == \"notebooks\"->azureml-sdk[notebooks]) (0.6.0)\nRequirement already satisfied, skipping upgrade: bleach in /anaconda/envs/azureml_py38/lib/python3.8/site-packages (from nbconvert<6->azureml-contrib-notebook~=1.48.0; extra == \"notebooks\"->azureml-sdk[notebooks]) (5.0.1)\nRequirement already satisfied, skipping upgrade: pandocfilters>=1.4.1 in /anaconda/envs/azureml_py38/lib/python3.8/site-packages (from nbconvert<6->azureml-contrib-notebook~=1.48.0; extra == \"notebooks\"->azureml-sdk[notebooks]) (1.5.0)\nRequirement already satisfied, skipping upgrade: defusedxml in /anaconda/envs/azureml_py38/lib/python3.8/site-packages (from nbconvert<6->azureml-contrib-notebook~=1.48.0; extra == \"notebooks\"->azureml-sdk[notebooks]) (0.7.1)\nRequirement already satisfied, skipping upgrade: mistune<2,>=0.8.1 in /anaconda/envs/azureml_py38/lib/python3.8/site-packages (from nbconvert<6->azureml-contrib-notebook~=1.48.0; extra == \"notebooks\"->azureml-sdk[notebooks]) (0.8.4)\nRequirement already satisfied, skipping upgrade: pycparser in /anaconda/envs/azureml_py38/lib/python3.8/site-packages (from cffi>=1.12->cryptography!=1.9,!=2.0.*,!=2.1.*,!=2.2.*,<41->azureml-core~=1.48.0->azureml-sdk[notebooks]) (2.21)\nRequirement already satisfied, skipping upgrade: oauthlib>=3.0.0 in /anaconda/envs/azureml_py38/lib/python3.8/site-packages (from requests-oauthlib>=0.5.0->msrest<=0.7.1,>=0.5.1->azureml-core~=1.48.0->azureml-sdk[notebooks]) (3.2.2)\nRequirement already satisfied, skipping upgrade: importlib-resources>=1.4.0; python_version < \"3.9\" in /anaconda/envs/azureml_py38/lib/python3.8/site-packages (from jsonschema->azureml-dataprep<4.9.0a,>=4.8.0a->azureml-dataset-runtime[fuse]~=1.48.0->azureml-sdk[notebooks]) (5.10.0)\nRequirement already satisfied, skipping upgrade: pkgutil-resolve-name>=1.3.10; python_version < \"3.9\" in /anaconda/envs/azureml_py38/lib/python3.8/site-packages (from jsonschema->azureml-dataprep<4.9.0a,>=4.8.0a->azureml-dataset-runtime[fuse]~=1.48.0->azureml-sdk[notebooks]) (1.3.10)\nRequirement already satisfied, skipping upgrade: pyrsistent!=0.17.0,!=0.17.1,!=0.17.2,>=0.14.0 in /anaconda/envs/azureml_py38/lib/python3.8/site-packages (from jsonschema->azureml-dataprep<4.9.0a,>=4.8.0a->azureml-dataset-runtime[fuse]~=1.48.0->azureml-sdk[notebooks]) (0.18.1)\nRequirement already satisfied, skipping upgrade: attrs>=17.4.0 in /anaconda/envs/azureml_py38/lib/python3.8/site-packages (from jsonschema->azureml-dataprep<4.9.0a,>=4.8.0a->azureml-dataset-runtime[fuse]~=1.48.0->azureml-sdk[notebooks]) (22.1.0)\nRequirement already satisfied, skipping upgrade: distro>=1.2.0 in /anaconda/envs/azureml_py38/lib/python3.8/site-packages (from dotnetcore2<4.0.0,>=3.0.0->azureml-dataprep<4.9.0a,>=4.8.0a->azureml-dataset-runtime[fuse]~=1.48.0->azureml-sdk[notebooks]) (1.8.0)\nRequirement already satisfied, skipping upgrade: notebook>=4.4.1 in /anaconda/envs/azureml_py38/lib/python3.8/site-packages (from widgetsnbextension~=3.6.0->ipywidgets<8.0.0,>=7.0.0->azureml-widgets~=1.48.0; extra == \"notebooks\"->azureml-sdk[notebooks]) (6.5.1)\nRequirement already satisfied, skipping upgrade: textwrap3>=0.9.2 in /anaconda/envs/azureml_py38/lib/python3.8/site-packages (from ansiwrap->papermill<2->azureml-contrib-notebook~=1.48.0; extra == \"notebooks\"->azureml-sdk[notebooks]) (0.9.2)\nRequirement already satisfied, skipping upgrade: executing in /anaconda/envs/azureml_py38/lib/python3.8/site-packages (from stack-data->ipython->azureml-contrib-notebook~=1.48.0; extra == \"notebooks\"->azureml-sdk[notebooks]) (1.1.1)\nRequirement already satisfied, skipping upgrade: asttokens in /anaconda/envs/azureml_py38/lib/python3.8/site-packages (from stack-data->ipython->azureml-contrib-notebook~=1.48.0; extra == \"notebooks\"->azureml-sdk[notebooks]) (2.0.8)\nRequirement already satisfied, skipping upgrade: pure-eval in /anaconda/envs/azureml_py38/lib/python3.8/site-packages (from stack-data->ipython->azureml-contrib-notebook~=1.48.0; extra == \"notebooks\"->azureml-sdk[notebooks]) (0.2.2)\nRequirement already satisfied, skipping upgrade: wcwidth in /anaconda/envs/azureml_py38/lib/python3.8/site-packages (from prompt-toolkit<3.1.0,>3.0.1->ipython->azureml-contrib-notebook~=1.48.0; extra == \"notebooks\"->azureml-sdk[notebooks]) (0.2.5)\nRequirement already satisfied, skipping upgrade: parso<0.9.0,>=0.8.0 in /anaconda/envs/azureml_py38/lib/python3.8/site-packages (from jedi>=0.16->ipython->azureml-contrib-notebook~=1.48.0; extra == \"notebooks\"->azureml-sdk[notebooks]) (0.8.3)\nRequirement already satisfied, skipping upgrade: ptyprocess>=0.5 in /anaconda/envs/azureml_py38/lib/python3.8/site-packages (from pexpect>4.3; sys_platform != \"win32\"->ipython->azureml-contrib-notebook~=1.48.0; extra == \"notebooks\"->azureml-sdk[notebooks]) (0.7.0)\nRequirement already satisfied, skipping upgrade: webencodings in /anaconda/envs/azureml_py38/lib/python3.8/site-packages (from bleach->nbconvert<6->azureml-contrib-notebook~=1.48.0; extra == \"notebooks\"->azureml-sdk[notebooks]) (0.5.1)\nRequirement already satisfied, skipping upgrade: zipp>=3.1.0; python_version < \"3.10\" in /anaconda/envs/azureml_py38/lib/python3.8/site-packages (from importlib-resources>=1.4.0; python_version < \"3.9\"->jsonschema->azureml-dataprep<4.9.0a,>=4.8.0a->azureml-dataset-runtime[fuse]~=1.48.0->azureml-sdk[notebooks]) (3.9.0)\nRequirement already satisfied, skipping upgrade: terminado>=0.8.3 in /anaconda/envs/azureml_py38/lib/python3.8/site-packages (from notebook>=4.4.1->widgetsnbextension~=3.6.0->ipywidgets<8.0.0,>=7.0.0->azureml-widgets~=1.48.0; extra == \"notebooks\"->azureml-sdk[notebooks]) (0.17.0)\nRequirement already satisfied, skipping upgrade: prometheus-client in /anaconda/envs/azureml_py38/lib/python3.8/site-packages (from notebook>=4.4.1->widgetsnbextension~=3.6.0->ipywidgets<8.0.0,>=7.0.0->azureml-widgets~=1.48.0; extra == \"notebooks\"->azureml-sdk[notebooks]) (0.15.0)\nRequirement already satisfied, skipping upgrade: nbclassic==0.4.5 in /anaconda/envs/azureml_py38/lib/python3.8/site-packages (from notebook>=4.4.1->widgetsnbextension~=3.6.0->ipywidgets<8.0.0,>=7.0.0->azureml-widgets~=1.48.0; extra == \"notebooks\"->azureml-sdk[notebooks]) (0.4.5)\nRequirement already satisfied, skipping upgrade: argon2-cffi in /anaconda/envs/azureml_py38/lib/python3.8/site-packages (from notebook>=4.4.1->widgetsnbextension~=3.6.0->ipywidgets<8.0.0,>=7.0.0->azureml-widgets~=1.48.0; extra == \"notebooks\"->azureml-sdk[notebooks]) (21.3.0)\nRequirement already satisfied, skipping upgrade: Send2Trash>=1.8.0 in /anaconda/envs/azureml_py38/lib/python3.8/site-packages (from notebook>=4.4.1->widgetsnbextension~=3.6.0->ipywidgets<8.0.0,>=7.0.0->azureml-widgets~=1.48.0; extra == \"notebooks\"->azureml-sdk[notebooks]) (1.8.0)\nRequirement already satisfied, skipping upgrade: jupyter-server>=1.8 in /anaconda/envs/azureml_py38/lib/python3.8/site-packages (from nbclassic==0.4.5->notebook>=4.4.1->widgetsnbextension~=3.6.0->ipywidgets<8.0.0,>=7.0.0->azureml-widgets~=1.48.0; extra == \"notebooks\"->azureml-sdk[notebooks]) (1.21.0)\nRequirement already satisfied, skipping upgrade: notebook-shim>=0.1.0 in /anaconda/envs/azureml_py38/lib/python3.8/site-packages (from nbclassic==0.4.5->notebook>=4.4.1->widgetsnbextension~=3.6.0->ipywidgets<8.0.0,>=7.0.0->azureml-widgets~=1.48.0; extra == \"notebooks\"->azureml-sdk[notebooks]) (0.2.0)\nRequirement already satisfied, skipping upgrade: argon2-cffi-bindings in /anaconda/envs/azureml_py38/lib/python3.8/site-packages (from argon2-cffi->notebook>=4.4.1->widgetsnbextension~=3.6.0->ipywidgets<8.0.0,>=7.0.0->azureml-widgets~=1.48.0; extra == \"notebooks\"->azureml-sdk[notebooks]) (21.2.0)\nRequirement already satisfied, skipping upgrade: anyio<4,>=3.1.0 in /anaconda/envs/azureml_py38/lib/python3.8/site-packages (from jupyter-server>=1.8->nbclassic==0.4.5->notebook>=4.4.1->widgetsnbextension~=3.6.0->ipywidgets<8.0.0,>=7.0.0->azureml-widgets~=1.48.0; extra == \"notebooks\"->azureml-sdk[notebooks]) (3.6.2)\nRequirement already satisfied, skipping upgrade: sniffio>=1.1 in /anaconda/envs/azureml_py38/lib/python3.8/site-packages (from anyio<4,>=3.1.0->jupyter-server>=1.8->nbclassic==0.4.5->notebook>=4.4.1->widgetsnbextension~=3.6.0->ipywidgets<8.0.0,>=7.0.0->azureml-widgets~=1.48.0; extra == \"notebooks\"->azureml-sdk[notebooks]) (1.3.0)\n"
        }
      ],
      "execution_count": 1,
      "metadata": {
        "jupyter": {
          "source_hidden": false,
          "outputs_hidden": false
        },
        "nteract": {
          "transient": {
            "deleting": false
          }
        }
      }
    },
    {
      "cell_type": "code",
      "source": [
        "# Connect to workspace\n",
        "import azureml.core\n",
        "from azureml.core import Workspace \n",
        "\n",
        "ws = Workspace.from_config()\n",
        "print(f\"Using Azure ML {azureml.core.VERSION, ws.name}\")"
      ],
      "outputs": [
        {
          "output_type": "stream",
          "name": "stdout",
          "text": "Using Azure ML ('1.47.0', 'mguo-projs')\n"
        }
      ],
      "execution_count": 1,
      "metadata": {
        "gather": {
          "logged": 1672175847141
        }
      }
    },
    {
      "cell_type": "code",
      "source": [
        "# Prepare dataset of diabetes patients\n",
        "from azureml.core import Dataset\n",
        "\n",
        "default_ds = ws.get_default_datastore() \n",
        "\n",
        "if 'diabetes dataset' not in ws.datasets:\n",
        "    default_ds.upload_files(\n",
        "        files=['./data/diabetes.csv', './data/diabetes2.csv'],\n",
        "        target_path = 'diabetes-data',\n",
        "        overwrite=True,\n",
        "        show_progress=True)\n",
        "\n",
        "    # Create tabular dataset from datastore path\n",
        "    tabular_dataset = Dataset.Tabular.from_delimited_files(path=(default_ds, 'diabetes-data/*.csv'))\n",
        "\n",
        "    # Register dataset\n",
        "    try: \n",
        "        tabular_dataset = tabular_dataset.register(workspace=ws, \n",
        "                                        name='diabetes dataset',\n",
        "                                        description='diabetes data',\n",
        "                                        tags = {'format': 'CSV'},\n",
        "                                        create_new_version=True)\n",
        "        print('Dataset registered.')\n",
        "    except Exception as ex: \n",
        "        print(ex)\n",
        "else: \n",
        "    print('Dataset already registered.')"
      ],
      "outputs": [],
      "execution_count": 2,
      "metadata": {
        "jupyter": {
          "source_hidden": false,
          "outputs_hidden": false
        },
        "nteract": {
          "transient": {
            "deleting": false
          }
        },
        "gather": {
          "logged": 1672175848984
        }
      }
    },
    {
      "cell_type": "code",
      "source": [
        "# Create scripts for pipeline\n",
        "# Create folder for pipeline step files\n",
        "import os \n",
        "experiment_folder = 'diabetes_pipeline'\n",
        "os.makedirs(experiment_folder, exist_ok=True)\n",
        "print(experiment_folder)"
      ],
      "outputs": [
        {
          "output_type": "stream",
          "name": "stdout",
          "text": "diabetes_pipeline\n"
        }
      ],
      "execution_count": 3,
      "metadata": {
        "jupyter": {
          "source_hidden": false,
          "outputs_hidden": false
        },
        "nteract": {
          "transient": {
            "deleting": false
          }
        },
        "gather": {
          "logged": 1672175849054
        }
      }
    },
    {
      "cell_type": "code",
      "source": [
        "%%writefile $experiment_folder/prep_diabetes.py\n",
        "\n",
        "# Script 1 reads from the diabetes dataset and preprocesses it\n",
        "#Import libraries\n",
        "import os \n",
        "import argparse\n",
        "import pandas as pd \n",
        "from azureml.core import Run \n",
        "from sklearn.preprocessing import MinMaxScaler\n",
        "\n",
        "# Get params\n",
        "parser = argparse.ArgumentParser() \n",
        "parser.add_argument('--input-data', type=str, dest='raw_dataset_id', help='Raw dataset')\n",
        "parser.add_argument('--prepped-data', type=str, dest='prepped_data', default='prepped_data', help='Folder for results')\n",
        "args = parser.parse_args()\n",
        "save_folder = args.prepped_data\n",
        "\n",
        "# Get experiment run context\n",
        "run = Run.get_context()\n",
        "\n",
        "# Load the data that was passed as an input dataset\n",
        "print(\"Loading...\")\n",
        "diabetes = run.input_datasets['raw_data'].to_pandas_dataframe()\n",
        "\n",
        "# Log initial row count\n",
        "row_count = len(diabetes)\n",
        "run.log('raw_rows', row_count)\n",
        "\n",
        "# Remove null values\n",
        "diabetes = diabetes.dropna() \n",
        "\n",
        "# Normalize numeric columns\n",
        "scaler = MinMaxScaler()\n",
        "num_cols = ['Pregnancies','PlasmaGlucose','DiastolicBloodPressure','TricepsThickness','SerumInsulin','BMI','DiabetesPedigree']\n",
        "diabetes[num_cols] = scaler.fit_transform(diabetes[num_cols])\n",
        "\n",
        "# Log newly processed rows \n",
        "row_count = len(diabetes)\n",
        "run.log('processed_rows', row_count)\n",
        "\n",
        "# Save data\n",
        "print('Saving...')\n",
        "os.makedirs(save_folder, exist_ok=True)\n",
        "save_path = os.path.join(save_folder, 'data.csv')\n",
        "diabetes.to_csv(save_path, index=False, header=True)\n",
        "\n",
        "# End run\n",
        "run.complete()"
      ],
      "outputs": [
        {
          "output_type": "stream",
          "name": "stdout",
          "text": "Overwriting diabetes_pipeline/prep_diabetes.py\n"
        }
      ],
      "execution_count": 4,
      "metadata": {
        "jupyter": {
          "source_hidden": false,
          "outputs_hidden": false
        },
        "nteract": {
          "transient": {
            "deleting": false
          }
        },
        "gather": {
          "logged": 1672173886201
        }
      }
    },
    {
      "cell_type": "code",
      "source": [
        "%%writefile $experiment_folder/train_diabetes.py\n",
        "\n",
        "# Script Step 2 trains the model\n",
        "# Import libraries\n",
        "from azureml.core import Run, Model \n",
        "import argparse\n",
        "import pandas as pd \n",
        "import numpy as np\n",
        "import os\n",
        "import joblib\n",
        "from sklearn.model_selection import train_test_split\n",
        "from sklearn.tree import DecisionTreeClassifier\n",
        "from sklearn.metrics import roc_auc_score, roc_curve \n",
        "import matplotlib.pyplot as plt\n",
        "\n",
        "# Get params\n",
        "parser = argparse.ArgumenetParser()\n",
        "# --traning-folder references the folder where the prepped data was saved\n",
        "parser.add_argument('--training-folder', type=str, dest='training_folder', help='training data folder')\n",
        "args = parser.parse_args()\n",
        "training_folder = args.training_folder \n",
        "\n",
        "# Get experiment run context\n",
        "run = Run.get_context() \n",
        "\n",
        "# Load the prepped data file in the training folder\n",
        "file_path = os.path.join(training_folder, 'data.csv')\n",
        "diabetes = pd.read_csv(file_path)\n",
        "\n",
        "# Separate labels from features\n",
        "X, y = diabetes[['Pregnancies','PlasmaGlucose','DiastolicBloodPressure','TricepsThickness','SerumInsulin','BMI','DiabetesPedigree','Age']].values, diabetes['Diabetic'].values\n",
        "\n",
        "# Split data into training and validation sets \n",
        "X_train, X_test, y_train, y_test = train_test_split(X, y, test_size=0.3, random_state=0)\n",
        "\n",
        "# Train decision tree model\n",
        "model = DecisionTreeClassifier().fit(X_train, y_train)\n",
        "\n",
        "# Determine metrics\n",
        "y_hat = model.predict(X_test)\n",
        "acc = np.average(y_hat == y_test)\n",
        "print('Accuracy: ', acc)\n",
        "run.log('Accuracy', np.float(acc)) # accuracy\n",
        "\n",
        "y_scores = model.predict_proba(X_test)\n",
        "auc = roc_auc_score(y_test, y_scores[:,1])\n",
        "print('AUC: ' + str(auc))\n",
        "run.log('AUC', np.float(auc)) # AUC\n",
        "\n",
        "fpr, tpr, thresholds = roc_curve(y_test, y_scores[:,1])\n",
        "fig = plt.figure(figsize=(6,4))\n",
        "plt.plot([0,1], [0,1], 'k--')\n",
        "plt.plot(fpr, tpr)\n",
        "plt.xlabel('False Positive Rate')\n",
        "plt.ylabel('True Positive Rate')\n",
        "plt.title('ROC Curve')\n",
        "plt.log_image(name='ROC', plot=fig)\n",
        "plt.show() \n",
        "\n",
        "# Save trained model to outputs folder\n",
        "os.makedirs('outputs', exist_ok=True)\n",
        "model_file = os.path.join('outputs', 'diabetes_model.pkl')\n",
        "joblib.dump(value=model, filename=model_file)\n",
        "\n",
        "# Register model \n",
        "Model.register(workspace=run.experiment.workspace, \n",
        "                model_path = model_file, \n",
        "                model_name = 'diabetes_model',\n",
        "                tags={'Training context' : 'Pipeline'}, \n",
        "                properties={'AUC' : np.float(auc), 'Accuracy' : np.float(acc)})\n",
        "\n",
        "# End run\n",
        "run.complete()"
      ],
      "outputs": [
        {
          "output_type": "stream",
          "name": "stdout",
          "text": "Writing diabetes_pipeline/train_diabetes.py\n"
        }
      ],
      "execution_count": 5,
      "metadata": {
        "jupyter": {
          "source_hidden": false,
          "outputs_hidden": false
        },
        "nteract": {
          "transient": {
            "deleting": false
          }
        }
      }
    },
    {
      "cell_type": "code",
      "source": [
        "# Prepare compute environment for pipeline steps \n",
        "\n",
        "from azureml.core.compute import ComputeTarget, AmlCompute\n",
        "from azureml.core.compute_target import ComputeTargetException \n",
        "\n",
        "cluster_name = 'mguo1'\n",
        "\n",
        "try: \n",
        "    pipeline_cluster = ComputeTarget(workspace=ws, name=cluster_name)\n",
        "    print('Found existing cluster')\n",
        "except ComputeTargetException: \n",
        "    try: \n",
        "        compute_config = AmlCompute.provisioning_configuration(vm_size='STANDARD_DS11_V2', max_nodes=2)\n",
        "        pipeline_cluster = ComputeTarget.create(ws, cluster_name, compute_config)\n",
        "        pipeline_cluster.wait_for_completion(show_output=True)\n",
        "    except Exception as ex: \n",
        "        print(ex)"
      ],
      "outputs": [
        {
          "output_type": "stream",
          "name": "stdout",
          "text": "InProgress.\nSucceededProvisioning operation finished, operation \"Succeeded\"\nSucceeded\nAmlCompute wait for completion finished\n\nMinimum number of nodes requested have been provisioned\n"
        }
      ],
      "execution_count": 6,
      "metadata": {
        "jupyter": {
          "source_hidden": false,
          "outputs_hidden": false
        },
        "nteract": {
          "transient": {
            "deleting": false
          }
        },
        "gather": {
          "logged": 1672176324247
        }
      }
    },
    {
      "cell_type": "code",
      "source": [
        "# Create run configuration \n",
        "\n",
        "from azureml.core import Environment\n",
        "from azureml.core.conda_dependencies import CondaDependencies\n",
        "from azureml.core.runconfig import RunConfiguration\n",
        "\n",
        "# Set up python env \n",
        "diabetes_env = Environment('diabetes-pipeline-env')\n",
        "diabetes_env.python.user_managed_dependencies = False; \n",
        "diabetes_env.docker.enabled = True\n",
        "\n",
        "# Create package dependencies\n",
        "diabetes_packages = CondaDependencies.create(conda_packages=['scikit-learn','ipykernel','matplotlib','pandas','pip'],\n",
        "                                             pip_packages=['azureml-defaults','azureml-dataprep[pandas]','pyarrow'])\n",
        "\n",
        "diabetes_env.python.conda_dependencies = diabetes_packages\n",
        "\n",
        "# Register python environment \n",
        "diabetes_env.register(workspace=ws)\n",
        "registered_env = Environment.get(ws, 'diabetes-pipeline-env')\n",
        "\n",
        "# New runconfig object created \n",
        "pipeline_run_config = RunConfiguration()\n",
        "pipeline_run_config.target = pipeline_cluster\n",
        "\n",
        "# Link environment to run configuration\n",
        "pipeline_run_config.environment = registered_env\n",
        "\n",
        "print('Run config created.')"
      ],
      "outputs": [
        {
          "output_type": "stream",
          "name": "stderr",
          "text": "'enabled' is deprecated. Please use the azureml.core.runconfig.DockerConfiguration object with the 'use_docker' param instead.\n"
        },
        {
          "output_type": "stream",
          "name": "stdout",
          "text": "Run config created.\n"
        }
      ],
      "execution_count": 7,
      "metadata": {
        "jupyter": {
          "source_hidden": false,
          "outputs_hidden": false
        },
        "nteract": {
          "transient": {
            "deleting": false
          }
        },
        "gather": {
          "logged": 1672176946394
        }
      }
    },
    {
      "cell_type": "code",
      "source": [
        "!pip install azureml.pipeline"
      ],
      "outputs": [
        {
          "output_type": "stream",
          "name": "stdout",
          "text": "Collecting azureml.pipeline\n  Using cached azureml_pipeline-1.48.0-py3-none-any.whl (2.4 kB)\nRequirement already satisfied: azureml-pipeline-core~=1.48.0 in /anaconda/envs/azureml_py38/lib/python3.8/site-packages (from azureml.pipeline) (1.48.0)\nRequirement already satisfied: azureml-pipeline-steps~=1.48.0 in /anaconda/envs/azureml_py38/lib/python3.8/site-packages (from azureml.pipeline) (1.48.0)\nRequirement already satisfied: azureml-core~=1.48.0 in /anaconda/envs/azureml_py38/lib/python3.8/site-packages (from azureml-pipeline-core~=1.48.0->azureml.pipeline) (1.48.0)\nRequirement already satisfied: azureml-train-automl-client~=1.48.0 in /anaconda/envs/azureml_py38/lib/python3.8/site-packages (from azureml-pipeline-steps~=1.48.0->azureml.pipeline) (1.48.0)\nRequirement already satisfied: azureml-train-core~=1.48.0 in /anaconda/envs/azureml_py38/lib/python3.8/site-packages (from azureml-pipeline-steps~=1.48.0->azureml.pipeline) (1.48.0)\nRequirement already satisfied: azure-common<2.0.0,>=1.1.12 in /anaconda/envs/azureml_py38/lib/python3.8/site-packages (from azureml-core~=1.48.0->azureml-pipeline-core~=1.48.0->azureml.pipeline) (1.1.28)\nRequirement already satisfied: jsonpickle<3.0.0 in /anaconda/envs/azureml_py38/lib/python3.8/site-packages (from azureml-core~=1.48.0->azureml-pipeline-core~=1.48.0->azureml.pipeline) (2.2.0)\nRequirement already satisfied: azure-mgmt-storage<21.0.0,>=16.0.0 in /anaconda/envs/azureml_py38/lib/python3.8/site-packages (from azureml-core~=1.48.0->azureml-pipeline-core~=1.48.0->azureml.pipeline) (20.1.0)\nRequirement already satisfied: urllib3<2.0.0,>=1.23 in /anaconda/envs/azureml_py38/lib/python3.8/site-packages (from azureml-core~=1.48.0->azureml-pipeline-core~=1.48.0->azureml.pipeline) (1.26.12)\nRequirement already satisfied: jmespath<2.0.0 in /anaconda/envs/azureml_py38/lib/python3.8/site-packages (from azureml-core~=1.48.0->azureml-pipeline-core~=1.48.0->azureml.pipeline) (0.10.0)\nRequirement already satisfied: azure-mgmt-authorization<4,>=0.40.0 in /anaconda/envs/azureml_py38/lib/python3.8/site-packages (from azureml-core~=1.48.0->azureml-pipeline-core~=1.48.0->azureml.pipeline) (2.0.0)\nRequirement already satisfied: argcomplete<3 in /anaconda/envs/azureml_py38/lib/python3.8/site-packages (from azureml-core~=1.48.0->azureml-pipeline-core~=1.48.0->azureml.pipeline) (2.0.0)\nRequirement already satisfied: adal<=1.2.7,>=1.2.0 in /anaconda/envs/azureml_py38/lib/python3.8/site-packages (from azureml-core~=1.48.0->azureml-pipeline-core~=1.48.0->azureml.pipeline) (1.2.7)\nRequirement already satisfied: cryptography!=1.9,!=2.0.*,!=2.1.*,!=2.2.*,<41 in /anaconda/envs/azureml_py38/lib/python3.8/site-packages (from azureml-core~=1.48.0->azureml-pipeline-core~=1.48.0->azureml.pipeline) (38.0.1)\nRequirement already satisfied: humanfriendly<11.0,>=4.7 in /anaconda/envs/azureml_py38/lib/python3.8/site-packages (from azureml-core~=1.48.0->azureml-pipeline-core~=1.48.0->azureml.pipeline) (10.0)\nRequirement already satisfied: PyJWT<3.0.0 in /anaconda/envs/azureml_py38/lib/python3.8/site-packages (from azureml-core~=1.48.0->azureml-pipeline-core~=1.48.0->azureml.pipeline) (2.4.0)\nRequirement already satisfied: backports.tempfile in /anaconda/envs/azureml_py38/lib/python3.8/site-packages (from azureml-core~=1.48.0->azureml-pipeline-core~=1.48.0->azureml.pipeline) (1.0)\nRequirement already satisfied: contextlib2<22.0.0 in /anaconda/envs/azureml_py38/lib/python3.8/site-packages (from azureml-core~=1.48.0->azureml-pipeline-core~=1.48.0->azureml.pipeline) (21.6.0)\nRequirement already satisfied: requests[socks]<3.0.0,>=2.19.1 in /anaconda/envs/azureml_py38/lib/python3.8/site-packages (from azureml-core~=1.48.0->azureml-pipeline-core~=1.48.0->azureml.pipeline) (2.28.1)\nRequirement already satisfied: pkginfo in /anaconda/envs/azureml_py38/lib/python3.8/site-packages (from azureml-core~=1.48.0->azureml-pipeline-core~=1.48.0->azureml.pipeline) (1.8.3)\nRequirement already satisfied: ndg-httpsclient<=0.5.1 in /anaconda/envs/azureml_py38/lib/python3.8/site-packages (from azureml-core~=1.48.0->azureml-pipeline-core~=1.48.0->azureml.pipeline) (0.5.1)\nRequirement already satisfied: pytz in /anaconda/envs/azureml_py38/lib/python3.8/site-packages (from azureml-core~=1.48.0->azureml-pipeline-core~=1.48.0->azureml.pipeline) (2022.5)\nRequirement already satisfied: azure-mgmt-resource<22.0.0,>=15.0.0 in /anaconda/envs/azureml_py38/lib/python3.8/site-packages (from azureml-core~=1.48.0->azureml-pipeline-core~=1.48.0->azureml.pipeline) (21.2.1)\nRequirement already satisfied: azure-graphrbac<1.0.0,>=0.40.0 in /anaconda/envs/azureml_py38/lib/python3.8/site-packages (from azureml-core~=1.48.0->azureml-pipeline-core~=1.48.0->azureml.pipeline) (0.61.1)\nRequirement already satisfied: msrestazure<=0.6.4,>=0.4.33 in /anaconda/envs/azureml_py38/lib/python3.8/site-packages (from azureml-core~=1.48.0->azureml-pipeline-core~=1.48.0->azureml.pipeline) (0.6.4)\nRequirement already satisfied: python-dateutil<3.0.0,>=2.7.3 in /anaconda/envs/azureml_py38/lib/python3.8/site-packages (from azureml-core~=1.48.0->azureml-pipeline-core~=1.48.0->azureml.pipeline) (2.8.2)\nRequirement already satisfied: msrest<=0.7.1,>=0.5.1 in /anaconda/envs/azureml_py38/lib/python3.8/site-packages (from azureml-core~=1.48.0->azureml-pipeline-core~=1.48.0->azureml.pipeline) (0.7.1)\nRequirement already satisfied: knack~=0.10.0 in /anaconda/envs/azureml_py38/lib/python3.8/site-packages (from azureml-core~=1.48.0->azureml-pipeline-core~=1.48.0->azureml.pipeline) (0.10.0)\nRequirement already satisfied: docker<7.0.0 in /anaconda/envs/azureml_py38/lib/python3.8/site-packages (from azureml-core~=1.48.0->azureml-pipeline-core~=1.48.0->azureml.pipeline) (6.0.0)\nRequirement already satisfied: paramiko<3.0.0,>=2.0.8 in /anaconda/envs/azureml_py38/lib/python3.8/site-packages (from azureml-core~=1.48.0->azureml-pipeline-core~=1.48.0->azureml.pipeline) (2.11.0)\nRequirement already satisfied: pathspec<1.0.0 in /anaconda/envs/azureml_py38/lib/python3.8/site-packages (from azureml-core~=1.48.0->azureml-pipeline-core~=1.48.0->azureml.pipeline) (0.10.1)\nRequirement already satisfied: packaging<22.0,>=20.0 in /anaconda/envs/azureml_py38/lib/python3.8/site-packages (from azureml-core~=1.48.0->azureml-pipeline-core~=1.48.0->azureml.pipeline) (21.3)\nRequirement already satisfied: msal<2.0.0,>=1.15.0 in /anaconda/envs/azureml_py38/lib/python3.8/site-packages (from azureml-core~=1.48.0->azureml-pipeline-core~=1.48.0->azureml.pipeline) (1.20.0)\nRequirement already satisfied: msal-extensions<=1.0.0,>=0.3.0 in /anaconda/envs/azureml_py38/lib/python3.8/site-packages (from azureml-core~=1.48.0->azureml-pipeline-core~=1.48.0->azureml.pipeline) (0.3.1)\nRequirement already satisfied: azure-core<2.0.0 in /anaconda/envs/azureml_py38/lib/python3.8/site-packages (from azureml-core~=1.48.0->azureml-pipeline-core~=1.48.0->azureml.pipeline) (1.26.0)\nRequirement already satisfied: azure-mgmt-containerregistry<11,>=8.2.0 in /anaconda/envs/azureml_py38/lib/python3.8/site-packages (from azureml-core~=1.48.0->azureml-pipeline-core~=1.48.0->azureml.pipeline) (10.0.0)\nRequirement already satisfied: azure-mgmt-keyvault<11.0.0,>=0.40.0 in /anaconda/envs/azureml_py38/lib/python3.8/site-packages (from azureml-core~=1.48.0->azureml-pipeline-core~=1.48.0->azureml.pipeline) (10.1.0)\nRequirement already satisfied: SecretStorage<4.0.0 in /anaconda/envs/azureml_py38/lib/python3.8/site-packages (from azureml-core~=1.48.0->azureml-pipeline-core~=1.48.0->azureml.pipeline) (3.3.3)\nRequirement already satisfied: pyopenssl<23.0.0 in /anaconda/envs/azureml_py38/lib/python3.8/site-packages (from azureml-core~=1.48.0->azureml-pipeline-core~=1.48.0->azureml.pipeline) (22.0.0)\nRequirement already satisfied: azureml-dataset-runtime~=1.48.0 in /anaconda/envs/azureml_py38/lib/python3.8/site-packages (from azureml-train-automl-client~=1.48.0->azureml-pipeline-steps~=1.48.0->azureml.pipeline) (1.48.0)\nRequirement already satisfied: azureml-automl-core~=1.48.0 in /anaconda/envs/azureml_py38/lib/python3.8/site-packages (from azureml-train-automl-client~=1.48.0->azureml-pipeline-steps~=1.48.0->azureml.pipeline) (1.48.0)\nRequirement already satisfied: azureml-telemetry~=1.48.0 in /anaconda/envs/azureml_py38/lib/python3.8/site-packages (from azureml-train-automl-client~=1.48.0->azureml-pipeline-steps~=1.48.0->azureml.pipeline) (1.48.0)\nRequirement already satisfied: azureml-train-restclients-hyperdrive~=1.48.0 in /anaconda/envs/azureml_py38/lib/python3.8/site-packages (from azureml-train-core~=1.48.0->azureml-pipeline-steps~=1.48.0->azureml.pipeline) (1.48.0)\nRequirement already satisfied: azure-mgmt-core<2.0.0,>=1.3.1 in /anaconda/envs/azureml_py38/lib/python3.8/site-packages (from azure-mgmt-storage<21.0.0,>=16.0.0->azureml-core~=1.48.0->azureml-pipeline-core~=1.48.0->azureml.pipeline) (1.3.2)\nRequirement already satisfied: cffi>=1.12 in /anaconda/envs/azureml_py38/lib/python3.8/site-packages (from cryptography!=1.9,!=2.0.*,!=2.1.*,!=2.2.*,<41->azureml-core~=1.48.0->azureml-pipeline-core~=1.48.0->azureml.pipeline) (1.15.1)\nRequirement already satisfied: backports.weakref in /anaconda/envs/azureml_py38/lib/python3.8/site-packages (from backports.tempfile->azureml-core~=1.48.0->azureml-pipeline-core~=1.48.0->azureml.pipeline) (1.0.post1)\nRequirement already satisfied: idna<4,>=2.5 in /anaconda/envs/azureml_py38/lib/python3.8/site-packages (from requests[socks]<3.0.0,>=2.19.1->azureml-core~=1.48.0->azureml-pipeline-core~=1.48.0->azureml.pipeline) (3.4)\nRequirement already satisfied: charset-normalizer<3,>=2 in /anaconda/envs/azureml_py38/lib/python3.8/site-packages (from requests[socks]<3.0.0,>=2.19.1->azureml-core~=1.48.0->azureml-pipeline-core~=1.48.0->azureml.pipeline) (2.1.1)\nRequirement already satisfied: certifi>=2017.4.17 in /anaconda/envs/azureml_py38/lib/python3.8/site-packages (from requests[socks]<3.0.0,>=2.19.1->azureml-core~=1.48.0->azureml-pipeline-core~=1.48.0->azureml.pipeline) (2022.9.24)\nRequirement already satisfied: PySocks!=1.5.7,>=1.5.6; extra == \"socks\" in /anaconda/envs/azureml_py38/lib/python3.8/site-packages (from requests[socks]<3.0.0,>=2.19.1->azureml-core~=1.48.0->azureml-pipeline-core~=1.48.0->azureml.pipeline) (1.7.1)\nRequirement already satisfied: pyasn1>=0.1.1 in /anaconda/envs/azureml_py38/lib/python3.8/site-packages (from ndg-httpsclient<=0.5.1->azureml-core~=1.48.0->azureml-pipeline-core~=1.48.0->azureml.pipeline) (0.4.8)\nRequirement already satisfied: six in /anaconda/envs/azureml_py38/lib/python3.8/site-packages (from msrestazure<=0.6.4,>=0.4.33->azureml-core~=1.48.0->azureml-pipeline-core~=1.48.0->azureml.pipeline) (1.16.0)\nRequirement already satisfied: isodate>=0.6.0 in /anaconda/envs/azureml_py38/lib/python3.8/site-packages (from msrest<=0.7.1,>=0.5.1->azureml-core~=1.48.0->azureml-pipeline-core~=1.48.0->azureml.pipeline) (0.6.1)\nRequirement already satisfied: requests-oauthlib>=0.5.0 in /anaconda/envs/azureml_py38/lib/python3.8/site-packages (from msrest<=0.7.1,>=0.5.1->azureml-core~=1.48.0->azureml-pipeline-core~=1.48.0->azureml.pipeline) (1.3.1)\nRequirement already satisfied: tabulate in /anaconda/envs/azureml_py38/lib/python3.8/site-packages (from knack~=0.10.0->azureml-core~=1.48.0->azureml-pipeline-core~=1.48.0->azureml.pipeline) (0.9.0)\nRequirement already satisfied: pyyaml in /anaconda/envs/azureml_py38/lib/python3.8/site-packages (from knack~=0.10.0->azureml-core~=1.48.0->azureml-pipeline-core~=1.48.0->azureml.pipeline) (6.0)\nRequirement already satisfied: pygments in /anaconda/envs/azureml_py38/lib/python3.8/site-packages (from knack~=0.10.0->azureml-core~=1.48.0->azureml-pipeline-core~=1.48.0->azureml.pipeline) (2.13.0)\nRequirement already satisfied: websocket-client>=0.32.0 in /anaconda/envs/azureml_py38/lib/python3.8/site-packages (from docker<7.0.0->azureml-core~=1.48.0->azureml-pipeline-core~=1.48.0->azureml.pipeline) (1.4.1)\nRequirement already satisfied: pynacl>=1.0.1 in /anaconda/envs/azureml_py38/lib/python3.8/site-packages (from paramiko<3.0.0,>=2.0.8->azureml-core~=1.48.0->azureml-pipeline-core~=1.48.0->azureml.pipeline) (1.5.0)\nRequirement already satisfied: bcrypt>=3.1.3 in /anaconda/envs/azureml_py38/lib/python3.8/site-packages (from paramiko<3.0.0,>=2.0.8->azureml-core~=1.48.0->azureml-pipeline-core~=1.48.0->azureml.pipeline) (4.0.1)\nRequirement already satisfied: pyparsing!=3.0.5,>=2.0.2 in /anaconda/envs/azureml_py38/lib/python3.8/site-packages (from packaging<22.0,>=20.0->azureml-core~=1.48.0->azureml-pipeline-core~=1.48.0->azureml.pipeline) (3.0.9)\nRequirement already satisfied: portalocker<3,>=1.0; python_version >= \"3.5\" and platform_system != \"Windows\" in /anaconda/envs/azureml_py38/lib/python3.8/site-packages (from msal-extensions<=1.0.0,>=0.3.0->azureml-core~=1.48.0->azureml-pipeline-core~=1.48.0->azureml.pipeline) (2.6.0)\nRequirement already satisfied: typing-extensions>=4.0.1 in /anaconda/envs/azureml_py38/lib/python3.8/site-packages (from azure-core<2.0.0->azureml-core~=1.48.0->azureml-pipeline-core~=1.48.0->azureml.pipeline) (4.4.0)\nRequirement already satisfied: jeepney>=0.6 in /anaconda/envs/azureml_py38/lib/python3.8/site-packages (from SecretStorage<4.0.0->azureml-core~=1.48.0->azureml-pipeline-core~=1.48.0->azureml.pipeline) (0.8.0)\nRequirement already satisfied: numpy!=1.19.3; sys_platform == \"linux\" in /anaconda/envs/azureml_py38/lib/python3.8/site-packages (from azureml-dataset-runtime~=1.48.0->azureml-train-automl-client~=1.48.0->azureml-pipeline-steps~=1.48.0->azureml.pipeline) (1.21.6)\nRequirement already satisfied: pyarrow<=9.0.0,>=0.17.0 in /anaconda/envs/azureml_py38/lib/python3.8/site-packages (from azureml-dataset-runtime~=1.48.0->azureml-train-automl-client~=1.48.0->azureml-pipeline-steps~=1.48.0->azureml.pipeline) (9.0.0)\nRequirement already satisfied: azureml-dataprep<4.9.0a,>=4.8.0a in /anaconda/envs/azureml_py38/lib/python3.8/site-packages (from azureml-dataset-runtime~=1.48.0->azureml-train-automl-client~=1.48.0->azureml-pipeline-steps~=1.48.0->azureml.pipeline) (4.8.3)\nRequirement already satisfied: applicationinsights in /anaconda/envs/azureml_py38/lib/python3.8/site-packages (from azureml-telemetry~=1.48.0->azureml-train-automl-client~=1.48.0->azureml-pipeline-steps~=1.48.0->azureml.pipeline) (0.11.10)\nRequirement already satisfied: pycparser in /anaconda/envs/azureml_py38/lib/python3.8/site-packages (from cffi>=1.12->cryptography!=1.9,!=2.0.*,!=2.1.*,!=2.2.*,<41->azureml-core~=1.48.0->azureml-pipeline-core~=1.48.0->azureml.pipeline) (2.21)\nRequirement already satisfied: oauthlib>=3.0.0 in /anaconda/envs/azureml_py38/lib/python3.8/site-packages (from requests-oauthlib>=0.5.0->msrest<=0.7.1,>=0.5.1->azureml-core~=1.48.0->azureml-pipeline-core~=1.48.0->azureml.pipeline) (3.2.2)\nRequirement already satisfied: cloudpickle<3.0.0,>=1.1.0 in /anaconda/envs/azureml_py38/lib/python3.8/site-packages (from azureml-dataprep<4.9.0a,>=4.8.0a->azureml-dataset-runtime~=1.48.0->azureml-train-automl-client~=1.48.0->azureml-pipeline-steps~=1.48.0->azureml.pipeline) (1.6.0)\nRequirement already satisfied: jsonschema in /anaconda/envs/azureml_py38/lib/python3.8/site-packages (from azureml-dataprep<4.9.0a,>=4.8.0a->azureml-dataset-runtime~=1.48.0->azureml-train-automl-client~=1.48.0->azureml-pipeline-steps~=1.48.0->azureml.pipeline) (4.16.0)\nRequirement already satisfied: azureml-dataprep-rslex~=2.15.0dev0 in /anaconda/envs/azureml_py38/lib/python3.8/site-packages (from azureml-dataprep<4.9.0a,>=4.8.0a->azureml-dataset-runtime~=1.48.0->azureml-train-automl-client~=1.48.0->azureml-pipeline-steps~=1.48.0->azureml.pipeline) (2.15.1)\nRequirement already satisfied: azure-identity==1.7.0 in /anaconda/envs/azureml_py38/lib/python3.8/site-packages (from azureml-dataprep<4.9.0a,>=4.8.0a->azureml-dataset-runtime~=1.48.0->azureml-train-automl-client~=1.48.0->azureml-pipeline-steps~=1.48.0->azureml.pipeline) (1.7.0)\nRequirement already satisfied: dotnetcore2<4.0.0,>=3.0.0 in /anaconda/envs/azureml_py38/lib/python3.8/site-packages (from azureml-dataprep<4.9.0a,>=4.8.0a->azureml-dataset-runtime~=1.48.0->azureml-train-automl-client~=1.48.0->azureml-pipeline-steps~=1.48.0->azureml.pipeline) (3.1.23)\nRequirement already satisfied: azureml-dataprep-native<39.0.0,>=38.0.0 in /anaconda/envs/azureml_py38/lib/python3.8/site-packages (from azureml-dataprep<4.9.0a,>=4.8.0a->azureml-dataset-runtime~=1.48.0->azureml-train-automl-client~=1.48.0->azureml-pipeline-steps~=1.48.0->azureml.pipeline) (38.0.0)\nRequirement already satisfied: importlib-resources>=1.4.0; python_version < \"3.9\" in /anaconda/envs/azureml_py38/lib/python3.8/site-packages (from jsonschema->azureml-dataprep<4.9.0a,>=4.8.0a->azureml-dataset-runtime~=1.48.0->azureml-train-automl-client~=1.48.0->azureml-pipeline-steps~=1.48.0->azureml.pipeline) (5.10.0)\nRequirement already satisfied: pkgutil-resolve-name>=1.3.10; python_version < \"3.9\" in /anaconda/envs/azureml_py38/lib/python3.8/site-packages (from jsonschema->azureml-dataprep<4.9.0a,>=4.8.0a->azureml-dataset-runtime~=1.48.0->azureml-train-automl-client~=1.48.0->azureml-pipeline-steps~=1.48.0->azureml.pipeline) (1.3.10)\nRequirement already satisfied: pyrsistent!=0.17.0,!=0.17.1,!=0.17.2,>=0.14.0 in /anaconda/envs/azureml_py38/lib/python3.8/site-packages (from jsonschema->azureml-dataprep<4.9.0a,>=4.8.0a->azureml-dataset-runtime~=1.48.0->azureml-train-automl-client~=1.48.0->azureml-pipeline-steps~=1.48.0->azureml.pipeline) (0.18.1)\nRequirement already satisfied: attrs>=17.4.0 in /anaconda/envs/azureml_py38/lib/python3.8/site-packages (from jsonschema->azureml-dataprep<4.9.0a,>=4.8.0a->azureml-dataset-runtime~=1.48.0->azureml-train-automl-client~=1.48.0->azureml-pipeline-steps~=1.48.0->azureml.pipeline) (22.1.0)\nRequirement already satisfied: distro>=1.2.0 in /anaconda/envs/azureml_py38/lib/python3.8/site-packages (from dotnetcore2<4.0.0,>=3.0.0->azureml-dataprep<4.9.0a,>=4.8.0a->azureml-dataset-runtime~=1.48.0->azureml-train-automl-client~=1.48.0->azureml-pipeline-steps~=1.48.0->azureml.pipeline) (1.8.0)\nRequirement already satisfied: zipp>=3.1.0; python_version < \"3.10\" in /anaconda/envs/azureml_py38/lib/python3.8/site-packages (from importlib-resources>=1.4.0; python_version < \"3.9\"->jsonschema->azureml-dataprep<4.9.0a,>=4.8.0a->azureml-dataset-runtime~=1.48.0->azureml-train-automl-client~=1.48.0->azureml-pipeline-steps~=1.48.0->azureml.pipeline) (3.9.0)\nInstalling collected packages: azureml.pipeline\nSuccessfully installed azureml.pipeline\n"
        }
      ],
      "execution_count": 6,
      "metadata": {
        "jupyter": {
          "source_hidden": false,
          "outputs_hidden": false
        },
        "nteract": {
          "transient": {
            "deleting": false
          }
        },
        "gather": {
          "logged": 1672177760836
        }
      }
    },
    {
      "cell_type": "code",
      "source": [
        "from azureml.pipeline.core import PipelineData\n",
        "from azureml.pipeline.steps import PythonScriptStep\n",
        "\n",
        "# Get the training dataset\n",
        "diabetes_ds = ws.datasets.get(\"diabetes dataset\")\n",
        "\n",
        "# Create a PipelineData (temporary Data Reference) for the model folder\n",
        "prepped_data_folder = PipelineData(\"prepped_data_folder\", datastore=ws.get_default_datastore())\n",
        "\n",
        "# Step 1, Run the data prep script\n",
        "train_step = PythonScriptStep(name = \"Prepare Data\",\n",
        "                                source_directory = experiment_folder,\n",
        "                                script_name = \"prep_diabetes.py\",\n",
        "                                arguments = ['--input-data', diabetes_ds.as_named_input('raw_data'),\n",
        "                                             '--prepped-data', prepped_data_folder],\n",
        "                                outputs=[prepped_data_folder],\n",
        "                                compute_target = pipeline_cluster,\n",
        "                                runconfig = pipeline_run_config,\n",
        "                                allow_reuse = True)\n",
        "\n",
        "# Step 2, run the training script\n",
        "register_step = PythonScriptStep(name = \"Train and Register Model\",\n",
        "                                source_directory = experiment_folder,\n",
        "                                script_name = \"train_diabetes.py\",\n",
        "                                arguments = ['--training-folder', prepped_data_folder],\n",
        "                                inputs=[prepped_data_folder],\n",
        "                                compute_target = pipeline_cluster,\n",
        "                                runconfig = pipeline_run_config,\n",
        "                                allow_reuse = True)\n",
        "\n",
        "print(\"Pipeline steps defined\")"
      ],
      "outputs": [
        {
          "output_type": "error",
          "ename": "ModuleNotFoundError",
          "evalue": "No module named 'azureml.pipeline'",
          "traceback": [
            "\u001b[0;31m---------------------------------------------------------------------------\u001b[0m",
            "\u001b[0;31mModuleNotFoundError\u001b[0m                       Traceback (most recent call last)",
            "Input \u001b[0;32mIn [10]\u001b[0m, in \u001b[0;36m<cell line: 1>\u001b[0;34m()\u001b[0m\n\u001b[0;32m----> 1\u001b[0m \u001b[38;5;28;01mfrom\u001b[39;00m \u001b[38;5;21;01mazureml\u001b[39;00m\u001b[38;5;21;01m.\u001b[39;00m\u001b[38;5;21;01mpipeline\u001b[39;00m\u001b[38;5;21;01m.\u001b[39;00m\u001b[38;5;21;01mcore\u001b[39;00m \u001b[38;5;28;01mimport\u001b[39;00m PipelineData\n\u001b[1;32m      2\u001b[0m \u001b[38;5;28;01mfrom\u001b[39;00m \u001b[38;5;21;01mazureml\u001b[39;00m\u001b[38;5;21;01m.\u001b[39;00m\u001b[38;5;21;01mpipeline\u001b[39;00m\u001b[38;5;21;01m.\u001b[39;00m\u001b[38;5;21;01msteps\u001b[39;00m \u001b[38;5;28;01mimport\u001b[39;00m PythonScriptStep\n\u001b[1;32m      4\u001b[0m \u001b[38;5;66;03m# Get the training dataset\u001b[39;00m\n",
            "\u001b[0;31mModuleNotFoundError\u001b[0m: No module named 'azureml.pipeline'"
          ]
        }
      ],
      "execution_count": 10,
      "metadata": {
        "jupyter": {
          "source_hidden": false,
          "outputs_hidden": false
        },
        "nteract": {
          "transient": {
            "deleting": false
          }
        },
        "gather": {
          "logged": 1672178677140
        }
      }
    },
    {
      "cell_type": "code",
      "source": [
        "!pip install azureml"
      ],
      "outputs": [
        {
          "output_type": "stream",
          "name": "stdout",
          "text": "Collecting azureml\n  Downloading azureml-0.2.7-py2.py3-none-any.whl (23 kB)\nRequirement already satisfied: requests in /anaconda/envs/azureml_py38/lib/python3.8/site-packages (from azureml) (2.28.1)\nRequirement already satisfied: python-dateutil in /anaconda/envs/azureml_py38/lib/python3.8/site-packages (from azureml) (2.8.2)\nRequirement already satisfied: pandas in /anaconda/envs/azureml_py38/lib/python3.8/site-packages (from azureml) (1.1.5)\nRequirement already satisfied: urllib3<1.27,>=1.21.1 in /anaconda/envs/azureml_py38/lib/python3.8/site-packages (from requests->azureml) (1.26.12)\nRequirement already satisfied: idna<4,>=2.5 in /anaconda/envs/azureml_py38/lib/python3.8/site-packages (from requests->azureml) (3.4)\nRequirement already satisfied: certifi>=2017.4.17 in /anaconda/envs/azureml_py38/lib/python3.8/site-packages (from requests->azureml) (2022.9.24)\nRequirement already satisfied: charset-normalizer<3,>=2 in /anaconda/envs/azureml_py38/lib/python3.8/site-packages (from requests->azureml) (2.1.1)\nRequirement already satisfied: six>=1.5 in /anaconda/envs/azureml_py38/lib/python3.8/site-packages (from python-dateutil->azureml) (1.16.0)\nRequirement already satisfied: numpy>=1.15.4 in /anaconda/envs/azureml_py38/lib/python3.8/site-packages (from pandas->azureml) (1.21.6)\nRequirement already satisfied: pytz>=2017.2 in /anaconda/envs/azureml_py38/lib/python3.8/site-packages (from pandas->azureml) (2022.5)\nInstalling collected packages: azureml\nSuccessfully installed azureml-0.2.7\n"
        }
      ],
      "execution_count": 4,
      "metadata": {
        "jupyter": {
          "source_hidden": false,
          "outputs_hidden": false
        },
        "nteract": {
          "transient": {
            "deleting": false
          }
        }
      }
    },
    {
      "cell_type": "code",
      "source": [
        "from azureml.core import Experiment\n",
        "from azureml.pipeline.core import Pipeline\n",
        "from azureml.widgets import RunDetails\n",
        "\n",
        "# Construct pipeline\n",
        "pipeline_steps = [train_step, register_step]\n",
        "pipeline = Pipeline(workspace=ws, steps=pipeline_steps)\n",
        "print(\"Pipeline is built.\")\n",
        "\n",
        "# Create experiment and run pipeline\n",
        "experiment = Experiment(workspace=ws, name = 'diabetes-training-pipeline')\n",
        "pipeline_run = experiment.submit(pipeline, regenerate_outputs=True)\n",
        "print(\"Pipeline submitted for execution.\")\n",
        "RunDetails(pipeline_run).show()\n",
        "pipeline_run.wait_for_completion(show_output=True)"
      ],
      "outputs": [
        {
          "output_type": "error",
          "ename": "ModuleNotFoundError",
          "evalue": "No module named 'azureml.pipeline'",
          "traceback": [
            "\u001b[0;31m---------------------------------------------------------------------------\u001b[0m",
            "\u001b[0;31mModuleNotFoundError\u001b[0m                       Traceback (most recent call last)",
            "Input \u001b[0;32mIn [5]\u001b[0m, in \u001b[0;36m<cell line: 2>\u001b[0;34m()\u001b[0m\n\u001b[1;32m      1\u001b[0m \u001b[38;5;28;01mfrom\u001b[39;00m \u001b[38;5;21;01mazureml\u001b[39;00m\u001b[38;5;21;01m.\u001b[39;00m\u001b[38;5;21;01mcore\u001b[39;00m \u001b[38;5;28;01mimport\u001b[39;00m Experiment\n\u001b[0;32m----> 2\u001b[0m \u001b[38;5;28;01mfrom\u001b[39;00m \u001b[38;5;21;01mazureml\u001b[39;00m\u001b[38;5;21;01m.\u001b[39;00m\u001b[38;5;21;01mpipeline\u001b[39;00m\u001b[38;5;21;01m.\u001b[39;00m\u001b[38;5;21;01mcore\u001b[39;00m \u001b[38;5;28;01mimport\u001b[39;00m Pipeline\n\u001b[1;32m      3\u001b[0m \u001b[38;5;28;01mfrom\u001b[39;00m \u001b[38;5;21;01mazureml\u001b[39;00m\u001b[38;5;21;01m.\u001b[39;00m\u001b[38;5;21;01mwidgets\u001b[39;00m \u001b[38;5;28;01mimport\u001b[39;00m RunDetails\n\u001b[1;32m      5\u001b[0m \u001b[38;5;66;03m# Construct pipeline\u001b[39;00m\n",
            "\u001b[0;31mModuleNotFoundError\u001b[0m: No module named 'azureml.pipeline'"
          ]
        }
      ],
      "execution_count": 5,
      "metadata": {
        "jupyter": {
          "source_hidden": false,
          "outputs_hidden": false
        },
        "nteract": {
          "transient": {
            "deleting": false
          }
        },
        "gather": {
          "logged": 1672178202079
        }
      }
    }
  ],
  "metadata": {
    "kernelspec": {
      "name": "python310-sdkv2",
      "language": "python",
      "display_name": "Python 3.10 - SDK V2"
    },
    "language_info": {
      "name": "python",
      "version": "3.10.6",
      "mimetype": "text/x-python",
      "codemirror_mode": {
        "name": "ipython",
        "version": 3
      },
      "pygments_lexer": "ipython3",
      "nbconvert_exporter": "python",
      "file_extension": ".py"
    },
    "kernel_info": {
      "name": "python310-sdkv2"
    },
    "nteract": {
      "version": "nteract-front-end@1.0.0"
    },
    "microsoft": {
      "host": {
        "AzureML": {
          "notebookHasBeenCompleted": true
        }
      }
    }
  },
  "nbformat": 4,
  "nbformat_minor": 2
}