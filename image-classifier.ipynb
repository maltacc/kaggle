{
 "cells": [
  {
   "cell_type": "code",
   "execution_count": 1,
   "id": "187dfdb8",
   "metadata": {
    "_cell_guid": "b1076dfc-b9ad-4769-8c92-a6c4dae69d19",
    "_uuid": "8f2839f25d086af736a60e9eeb907d3b93b6e0e5",
    "execution": {
     "iopub.execute_input": "2022-12-17T02:01:28.207597Z",
     "iopub.status.busy": "2022-12-17T02:01:28.206510Z",
     "iopub.status.idle": "2022-12-17T02:01:28.221518Z",
     "shell.execute_reply": "2022-12-17T02:01:28.220634Z"
    },
    "papermill": {
     "duration": 0.025732,
     "end_time": "2022-12-17T02:01:28.224331",
     "exception": false,
     "start_time": "2022-12-17T02:01:28.198599",
     "status": "completed"
    },
    "tags": []
   },
   "outputs": [],
   "source": [
    "# This Python 3 environment comes with many helpful analytics libraries installed\n",
    "# It is defined by the kaggle/python Docker image: https://github.com/kaggle/docker-python\n",
    "# For example, here's several helpful packages to load\n",
    "\n",
    "import numpy as np # linear algebra\n",
    "import pandas as pd # data processing, CSV file I/O (e.g. pd.read_csv)\n",
    "\n",
    "# Input data files are available in the read-only \"../input/\" directory\n",
    "# For example, running this (by clicking run or pressing Shift+Enter) will list all files under the input directory\n",
    "\n",
    "import os\n",
    "for dirname, _, filenames in os.walk('/kaggle/input'):\n",
    "    for filename in filenames:\n",
    "        print(os.path.join(dirname, filename))\n",
    "\n",
    "# You can write up to 20GB to the current directory (/kaggle/working/) that gets preserved as output when you create a version using \"Save & Run All\" \n",
    "# You can also write temporary files to /kaggle/temp/, but they won't be saved outside of the current session"
   ]
  },
  {
   "cell_type": "code",
   "execution_count": 2,
   "id": "8daeeeef",
   "metadata": {
    "execution": {
     "iopub.execute_input": "2022-12-17T02:01:28.236286Z",
     "iopub.status.busy": "2022-12-17T02:01:28.235482Z",
     "iopub.status.idle": "2022-12-17T02:01:34.148863Z",
     "shell.execute_reply": "2022-12-17T02:01:34.147170Z"
    },
    "papermill": {
     "duration": 5.922263,
     "end_time": "2022-12-17T02:01:34.151484",
     "exception": false,
     "start_time": "2022-12-17T02:01:28.229221",
     "status": "completed"
    },
    "tags": []
   },
   "outputs": [
    {
     "data": {
      "text/plain": [
       "[]"
      ]
     },
     "execution_count": 2,
     "metadata": {},
     "output_type": "execute_result"
    }
   ],
   "source": [
    "import tensorflow as tf\n",
    "tf.config.list_physical_devices('GPU')"
   ]
  },
  {
   "cell_type": "code",
   "execution_count": 3,
   "id": "96218094",
   "metadata": {
    "execution": {
     "iopub.execute_input": "2022-12-17T02:01:34.165016Z",
     "iopub.status.busy": "2022-12-17T02:01:34.164184Z",
     "iopub.status.idle": "2022-12-17T02:01:36.648338Z",
     "shell.execute_reply": "2022-12-17T02:01:36.647130Z"
    },
    "papermill": {
     "duration": 2.494011,
     "end_time": "2022-12-17T02:01:36.651318",
     "exception": false,
     "start_time": "2022-12-17T02:01:34.157307",
     "status": "completed"
    },
    "tags": []
   },
   "outputs": [
    {
     "name": "stdout",
     "output_type": "stream",
     "text": [
      "Downloading data from https://storage.googleapis.com/tensorflow/tf-keras-datasets/train-labels-idx1-ubyte.gz\n",
      "32768/29515 [=================================] - 0s 0us/step\n",
      "40960/29515 [=========================================] - 0s 0us/step\n",
      "Downloading data from https://storage.googleapis.com/tensorflow/tf-keras-datasets/train-images-idx3-ubyte.gz\n",
      "26427392/26421880 [==============================] - 0s 0us/step\n",
      "26435584/26421880 [==============================] - 0s 0us/step\n",
      "Downloading data from https://storage.googleapis.com/tensorflow/tf-keras-datasets/t10k-labels-idx1-ubyte.gz\n",
      "16384/5148 [===============================================================================================] - 0s 0us/step\n",
      "Downloading data from https://storage.googleapis.com/tensorflow/tf-keras-datasets/t10k-images-idx3-ubyte.gz\n",
      "4423680/4422102 [==============================] - 0s 0us/step\n",
      "4431872/4422102 [==============================] - 0s 0us/step\n"
     ]
    }
   ],
   "source": [
    "# retrieve Fashion MNIST dataset from tf library \n",
    "fashion_mnist = tf.keras.datasets.fashion_mnist\n",
    "#train_images = questions on flashcards, train_labels = answers (label = answer)\n",
    "(train_images, train_labels), (valid_images, valid_labels) = fashion_mnist.load_data()"
   ]
  },
  {
   "cell_type": "code",
   "execution_count": 4,
   "id": "ee4ec9a1",
   "metadata": {
    "execution": {
     "iopub.execute_input": "2022-12-17T02:01:36.664525Z",
     "iopub.status.busy": "2022-12-17T02:01:36.664069Z",
     "iopub.status.idle": "2022-12-17T02:01:36.985956Z",
     "shell.execute_reply": "2022-12-17T02:01:36.984186Z"
    },
    "papermill": {
     "duration": 0.331812,
     "end_time": "2022-12-17T02:01:36.988929",
     "exception": false,
     "start_time": "2022-12-17T02:01:36.657117",
     "status": "completed"
    },
    "tags": []
   },
   "outputs": [
    {
     "data": {
      "image/png": "[encoded data removed]",
      "text/plain": [
       "<Figure size 432x288 with 2 Axes>"
      ]
     },
     "metadata": {
      "needs_background": "light"
     },
     "output_type": "display_data"
    }
   ],
   "source": [
    "# training data\n",
    "\n",
    "# use matplotlib to plot image of fashion clothing\n",
    "import matplotlib.pyplot as plt\n",
    "\n",
    "# 69 = question number to study with \n",
    "data_idx = 69\n",
    "\n",
    "# plot image\n",
    "plt.figure()\n",
    "plt.imshow(train_images[data_idx], cmap='gray')\n",
    "plt.colorbar()\n",
    "plt.grid(False)\n",
    "plt.show()"
   ]
  },
  {
   "cell_type": "code",
   "execution_count": 5,
   "id": "4a80ec3e",
   "metadata": {
    "execution": {
     "iopub.execute_input": "2022-12-17T02:01:37.004155Z",
     "iopub.status.busy": "2022-12-17T02:01:37.002939Z",
     "iopub.status.idle": "2022-12-17T02:01:37.011588Z",
     "shell.execute_reply": "2022-12-17T02:01:37.010701Z"
    },
    "papermill": {
     "duration": 0.019033,
     "end_time": "2022-12-17T02:01:37.014072",
     "exception": false,
     "start_time": "2022-12-17T02:01:36.995039",
     "status": "completed"
    },
    "tags": []
   },
   "outputs": [
    {
     "data": {
      "text/plain": [
       "1"
      ]
     },
     "execution_count": 5,
     "metadata": {},
     "output_type": "execute_result"
    }
   ],
   "source": [
    "# classifies the image according to 10 previously-defined categories\n",
    "train_labels[data_idx]"
   ]
  },
  {
   "cell_type": "code",
   "execution_count": 6,
   "id": "823dae49",
   "metadata": {
    "execution": {
     "iopub.execute_input": "2022-12-17T02:01:37.028505Z",
     "iopub.status.busy": "2022-12-17T02:01:37.027259Z",
     "iopub.status.idle": "2022-12-17T02:01:37.343489Z",
     "shell.execute_reply": "2022-12-17T02:01:37.341897Z"
    },
    "papermill": {
     "duration": 0.326677,
     "end_time": "2022-12-17T02:01:37.346665",
     "exception": false,
     "start_time": "2022-12-17T02:01:37.019988",
     "status": "completed"
    },
    "tags": []
   },
   "outputs": [
    {
     "data": {
      "image/png": "[encoded data removed]",
      "text/plain": [
       "<Figure size 432x288 with 2 Axes>"
      ]
     },
     "metadata": {
      "needs_background": "light"
     },
     "output_type": "display_data"
    }
   ],
   "source": [
    "# validation data\n",
    "import matplotlib.pyplot as plt\n",
    "\n",
    "data_idx = 420\n",
    "plt.figure()\n",
    "plt.imshow(valid_images[data_idx], cmap='gray')\n",
    "plt.colorbar()\n",
    "plt.grid(False)\n",
    "plt.show()"
   ]
  },
  {
   "cell_type": "code",
   "execution_count": 7,
   "id": "8c0eaf6f",
   "metadata": {
    "execution": {
     "iopub.execute_input": "2022-12-17T02:01:37.361340Z",
     "iopub.status.busy": "2022-12-17T02:01:37.360923Z",
     "iopub.status.idle": "2022-12-17T02:01:37.369066Z",
     "shell.execute_reply": "2022-12-17T02:01:37.367711Z"
    },
    "papermill": {
     "duration": 0.018617,
     "end_time": "2022-12-17T02:01:37.371739",
     "exception": false,
     "start_time": "2022-12-17T02:01:37.353122",
     "status": "completed"
    },
    "tags": []
   },
   "outputs": [
    {
     "data": {
      "text/plain": [
       "5"
      ]
     },
     "execution_count": 7,
     "metadata": {},
     "output_type": "execute_result"
    }
   ],
   "source": [
    "valid_labels[data_idx]"
   ]
  },
  {
   "cell_type": "code",
   "execution_count": 8,
   "id": "7b973915",
   "metadata": {
    "execution": {
     "iopub.execute_input": "2022-12-17T02:01:37.386949Z",
     "iopub.status.busy": "2022-12-17T02:01:37.386490Z",
     "iopub.status.idle": "2022-12-17T02:01:37.398293Z",
     "shell.execute_reply": "2022-12-17T02:01:37.396803Z"
    },
    "papermill": {
     "duration": 0.024638,
     "end_time": "2022-12-17T02:01:37.402743",
     "exception": false,
     "start_time": "2022-12-17T02:01:37.378105",
     "status": "completed"
    },
    "tags": []
   },
   "outputs": [
    {
     "data": {
      "text/plain": [
       "array([[  0,   0,   0,   0,   0,   0,   0,   0,   0,   0,   0,   0,   0,\n",
       "          0,   0,   0,   0,   0,   0,   0,   0,   0,   0,   0,   0,   0,\n",
       "          0,   0],\n",
       "       [  0,   0,   0,   0,   0,   0,   0,   0,   0,   0,   0,   0,   0,\n",
       "          0,   0,   0,   0,   0,   0,   0,   0,   0,   0,   0,   0,   0,\n",
       "          0,   0],\n",
       "       [  0,   0,   0,   0,   0,   0,   0,   0,   0,   0,   0,   0,   0,\n",
       "          0,   0,   0,   0,   0,   0,   0,   0,   0,   0,   0,   0,   0,\n",
       "          0,   0],\n",
       "       [  0,   0,   0,   0,   0,   0,   0,   0,   0,   0,   0,   0,   0,\n",
       "          0,   0,   0,   0,   0,   0,   0,   0,   0,   0,   0,   0,   0,\n",
       "          0,   0],\n",
       "       [  0,   0,   0,   0,   0,   0,   0,   0,   0,   0,   0,   0,   0,\n",
       "          0,   0,   0,   0,   0,   0,   0,   0,   0,   0,   0,   0,   0,\n",
       "          0,   0],\n",
       "       [  0,   0,   0,   0,   0,   0,   0,   0,   0,   0,   0,   0,   0,\n",
       "          0,   0,   0,   0,   0,   0,   0,   0,   0,   0,   0,   0,   0,\n",
       "          0,   0],\n",
       "       [  0,   0,   0,   0,   0,   0,   0,   0,   0,   0,   0,   0,   0,\n",
       "          0,   0,   0,   0,   0,   0,   0,   0,   0,   0,   0,   0,   0,\n",
       "          0,   0],\n",
       "       [  0,   0,   0,   0,   0,   0,   0,   0,   0,   0,   0,   0,   0,\n",
       "          0,   0,   0,   0,   0,   0,   0,   0,   0,   0,   0,   0,   0,\n",
       "          0,   0],\n",
       "       [  0,   0,   0,   0,   0,   0,   0,   0,   0,   0,   0,   0,   0,\n",
       "          0,   0,   0,   0,   0,   0,   0,   0,   0,   0,   0,   0,   0,\n",
       "          0,   0],\n",
       "       [  0,   0,   0,   0,   0,   0,   0,   0,   0,   0,   0,   0,   0,\n",
       "          0,   0,   0,   0,   0,   0,   0,   0,   0,   0,   0,   0,   0,\n",
       "          0,   0],\n",
       "       [  0,   0,   0,   0,   0,   0,   0,   1,   1,   0,   0,   0,   0,\n",
       "          0,   0,   0,   0,   0,   0,   0,   0,   0,   0,   0,   0,  60,\n",
       "         17,   0],\n",
       "       [  0,   0,   0,   0,   1,   2,   0,   0,   0,   0,   0,  55,  85,\n",
       "          0,   0,   0,   0,   0,  11,  51,  87, 105, 127, 124, 130, 145,\n",
       "         78,  15],\n",
       "       [  0,   2,   2,   0,   0,   0,   0,   4,  79, 161, 216, 184, 212,\n",
       "        188,   0,   0,   0,  23, 195, 132, 143, 115,  78,  71, 111, 135,\n",
       "          0,   0],\n",
       "       [  0,   0,   3,   0,   0,  35, 143, 245, 235, 206, 170, 169, 169,\n",
       "        246,  25,   0,   0,   0,   6,  63,  42,  40, 103, 116, 145, 168,\n",
       "         21,   0],\n",
       "       [  2,   1,   0,   0, 155, 198, 180, 187, 177, 156, 192, 213, 222,\n",
       "        251, 152,   0,   1,   0,   0,   0,  13, 139, 196, 205, 109,  13,\n",
       "          0,   0],\n",
       "       [  0,   0,   0,   0, 174, 196, 196, 188, 193, 222, 226, 227, 226,\n",
       "        233, 215,   0,   0,   0,   0,   4, 151, 174, 120,   0,   0,   0,\n",
       "          0,   0],\n",
       "       [ 34,  35,  13,   0, 177, 236, 227, 216, 237, 218, 211, 230, 214,\n",
       "        219, 220,  11,   0,   0,   0, 138, 165,  81,   1,   0,   0,   0,\n",
       "          0,   0],\n",
       "       [ 67, 105, 103,  70, 145, 203, 206, 236, 246, 116, 174, 255, 217,\n",
       "        207, 199, 162, 117, 132, 132, 175, 155, 135, 152, 153, 120, 130,\n",
       "         97,   0],\n",
       "       [  0,   0,  13,  31,  10,  24,  21,  17,  26,  19,  27,  25,  18,\n",
       "         13,   6,  20,  37,  13,  57, 115,  96, 121, 127, 131, 128, 139,\n",
       "         98,   0],\n",
       "       [  0,   0,   0,   0,   0,   0,   0,   0,   0,   0,   0,   0,   0,\n",
       "          0,   0,   0,   0,   0,   0,   0,   0,   0,   0,   0,   0,   0,\n",
       "          0,   0],\n",
       "       [  0,   0,   0,   0,   0,   0,   0,   0,   0,   0,   0,   0,   0,\n",
       "          0,   0,   0,   0,   0,   0,   0,   0,   0,   0,   0,   0,   0,\n",
       "          0,   0],\n",
       "       [  0,   0,   0,   0,   0,   0,   0,   0,   0,   0,   0,   0,   0,\n",
       "          0,   0,   0,   0,   0,   0,   0,   0,   0,   0,   0,   0,   0,\n",
       "          0,   0],\n",
       "       [  0,   0,   0,   0,   0,   0,   0,   0,   0,   0,   0,   0,   0,\n",
       "          0,   0,   0,   0,   0,   0,   0,   0,   0,   0,   0,   0,   0,\n",
       "          0,   0],\n",
       "       [  0,   0,   0,   0,   0,   0,   0,   0,   0,   0,   0,   0,   0,\n",
       "          0,   0,   0,   0,   0,   0,   0,   0,   0,   0,   0,   0,   0,\n",
       "          0,   0],\n",
       "       [  0,   0,   0,   0,   0,   0,   0,   0,   0,   0,   0,   0,   0,\n",
       "          0,   0,   0,   0,   0,   0,   0,   0,   0,   0,   0,   0,   0,\n",
       "          0,   0],\n",
       "       [  0,   0,   0,   0,   0,   0,   0,   0,   0,   0,   0,   0,   0,\n",
       "          0,   0,   0,   0,   0,   0,   0,   0,   0,   0,   0,   0,   0,\n",
       "          0,   0],\n",
       "       [  0,   0,   0,   0,   0,   0,   0,   0,   0,   0,   0,   0,   0,\n",
       "          0,   0,   0,   0,   0,   0,   0,   0,   0,   0,   0,   0,   0,\n",
       "          0,   0],\n",
       "       [  0,   0,   0,   0,   0,   0,   0,   0,   0,   0,   0,   0,   0,\n",
       "          0,   0,   0,   0,   0,   0,   0,   0,   0,   0,   0,   0,   0,\n",
       "          0,   0]], dtype=uint8)"
      ]
     },
     "execution_count": 8,
     "metadata": {},
     "output_type": "execute_result"
    }
   ],
   "source": [
    "# neuron takes each pixel value, assigns a weight. Image = 28 x 28 pixels\n",
    "valid_images[data_idx]"
   ]
  },
  {
   "cell_type": "code",
   "execution_count": 9,
   "id": "ca2f16fa",
   "metadata": {
    "execution": {
     "iopub.execute_input": "2022-12-17T02:01:37.418972Z",
     "iopub.status.busy": "2022-12-17T02:01:37.418290Z",
     "iopub.status.idle": "2022-12-17T02:01:37.428096Z",
     "shell.execute_reply": "2022-12-17T02:01:37.426866Z"
    },
    "papermill": {
     "duration": 0.020781,
     "end_time": "2022-12-17T02:01:37.430505",
     "exception": false,
     "start_time": "2022-12-17T02:01:37.409724",
     "status": "completed"
    },
    "tags": []
   },
   "outputs": [
    {
     "data": {
      "text/plain": [
       "10"
      ]
     },
     "execution_count": 9,
     "metadata": {},
     "output_type": "execute_result"
    }
   ],
   "source": [
    "# layer 1) Flatten - convert multidimensional data into 1D data (ex list)\n",
    "# layer 2) Dense - neuron row, each neuron has weight w\n",
    "# clothing guess = whichever neuron assigned to each label (of 10) has the greatest output\n",
    "# ex. place 10 neurons --> 10 categories of clothing\n",
    "number_of_classes = train_labels.max() + 1\n",
    "number_of_classes"
   ]
  },
  {
   "cell_type": "code",
   "execution_count": 10,
   "id": "9ed4766d",
   "metadata": {
    "execution": {
     "iopub.execute_input": "2022-12-17T02:01:37.448751Z",
     "iopub.status.busy": "2022-12-17T02:01:37.447446Z",
     "iopub.status.idle": "2022-12-17T02:01:37.773109Z",
     "shell.execute_reply": "2022-12-17T02:01:37.772129Z"
    },
    "papermill": {
     "duration": 0.338215,
     "end_time": "2022-12-17T02:01:37.776046",
     "exception": false,
     "start_time": "2022-12-17T02:01:37.437831",
     "status": "completed"
    },
    "tags": []
   },
   "outputs": [
    {
     "name": "stderr",
     "output_type": "stream",
     "text": [
      "2022-12-17 02:01:37.706506: I tensorflow/core/common_runtime/process_util.cc:146] Creating new thread pool with default inter op setting: 2. Tune using inter_op_parallelism_threads for best performance.\n"
     ]
    }
   ],
   "source": [
    "# Sequential is used for a plain stack of layers where each layer\n",
    "# has one input and output tensor\n",
    "model = tf.keras.Sequential([\n",
    "    tf.keras.layers.Flatten(input_shape=(28,28)),\n",
    "    tf.keras.layers.Dense(number_of_classes)\n",
    "])"
   ]
  },
  {
   "cell_type": "code",
   "execution_count": 11,
   "id": "cf7e0f39",
   "metadata": {
    "execution": {
     "iopub.execute_input": "2022-12-17T02:01:37.792803Z",
     "iopub.status.busy": "2022-12-17T02:01:37.791844Z",
     "iopub.status.idle": "2022-12-17T02:01:37.799362Z",
     "shell.execute_reply": "2022-12-17T02:01:37.797718Z"
    },
    "papermill": {
     "duration": 0.019775,
     "end_time": "2022-12-17T02:01:37.802701",
     "exception": false,
     "start_time": "2022-12-17T02:01:37.782926",
     "status": "completed"
    },
    "tags": []
   },
   "outputs": [
    {
     "name": "stdout",
     "output_type": "stream",
     "text": [
      "Model: \"sequential\"\n",
      "_________________________________________________________________\n",
      "Layer (type)                 Output Shape              Param #   \n",
      "=================================================================\n",
      "flatten (Flatten)            (None, 784)               0         \n",
      "_________________________________________________________________\n",
      "dense (Dense)                (None, 10)                7850      \n",
      "=================================================================\n",
      "Total params: 7,850\n",
      "Trainable params: 7,850\n",
      "Non-trainable params: 0\n",
      "_________________________________________________________________\n"
     ]
    }
   ],
   "source": [
    "# Verify model \n",
    "model.summary()"
   ]
  },
  {
   "cell_type": "code",
   "execution_count": 12,
   "id": "224239ce",
   "metadata": {
    "execution": {
     "iopub.execute_input": "2022-12-17T02:01:37.819252Z",
     "iopub.status.busy": "2022-12-17T02:01:37.818839Z",
     "iopub.status.idle": "2022-12-17T02:01:37.835984Z",
     "shell.execute_reply": "2022-12-17T02:01:37.834869Z"
    },
    "papermill": {
     "duration": 0.029353,
     "end_time": "2022-12-17T02:01:37.838883",
     "exception": false,
     "start_time": "2022-12-17T02:01:37.809530",
     "status": "completed"
    },
    "tags": []
   },
   "outputs": [],
   "source": [
    "# model uses sparse categorial cross entropy classification\n",
    "# grades the neurons simultaneously\n",
    "\n",
    "model.compile(optimizer='adam',\n",
    "              loss=tf.keras.losses.SparseCategoricalCrossentropy(from_logits=True),\n",
    "              metrics=['accuracy'])"
   ]
  },
  {
   "cell_type": "code",
   "execution_count": 13,
   "id": "0bd9af41",
   "metadata": {
    "execution": {
     "iopub.execute_input": "2022-12-17T02:01:37.855025Z",
     "iopub.status.busy": "2022-12-17T02:01:37.854585Z",
     "iopub.status.idle": "2022-12-17T02:02:03.699362Z",
     "shell.execute_reply": "2022-12-17T02:02:03.697925Z"
    },
    "papermill": {
     "duration": 25.856412,
     "end_time": "2022-12-17T02:02:03.702474",
     "exception": false,
     "start_time": "2022-12-17T02:01:37.846062",
     "status": "completed"
    },
    "tags": []
   },
   "outputs": [
    {
     "name": "stderr",
     "output_type": "stream",
     "text": [
      "2022-12-17 02:01:37.944723: I tensorflow/compiler/mlir/mlir_graph_optimization_pass.cc:185] None of the MLIR Optimization Passes are enabled (registered 2)\n"
     ]
    },
    {
     "name": "stdout",
     "output_type": "stream",
     "text": [
      "Epoch 1/5\n",
      "1875/1875 [==============================] - 5s 3ms/step - loss: 16.8591 - accuracy: 0.7430 - val_loss: 13.3426 - val_accuracy: 0.7833\n",
      "Epoch 2/5\n",
      "1875/1875 [==============================] - 5s 3ms/step - loss: 12.3343 - accuracy: 0.7850 - val_loss: 13.1847 - val_accuracy: 0.7694\n",
      "Epoch 3/5\n",
      "1875/1875 [==============================] - 5s 3ms/step - loss: 11.5823 - accuracy: 0.7924 - val_loss: 13.7571 - val_accuracy: 0.7720\n",
      "Epoch 4/5\n",
      "1875/1875 [==============================] - 5s 3ms/step - loss: 10.6563 - accuracy: 0.8015 - val_loss: 11.0093 - val_accuracy: 0.7910\n",
      "Epoch 5/5\n",
      "1875/1875 [==============================] - 5s 3ms/step - loss: 10.3864 - accuracy: 0.8004 - val_loss: 17.9120 - val_accuracy: 0.7477\n"
     ]
    }
   ],
   "source": [
    "# epoch = one review of the training dataset\n",
    "# model is quizzed with the validation data after each epoch/iteration\n",
    "history = model.fit(\n",
    "    train_images, train_labels, epochs=5, verbose=True, validation_data=(valid_images, valid_labels))"
   ]
  },
  {
   "cell_type": "code",
   "execution_count": 14,
   "id": "cb20dcf7",
   "metadata": {
    "execution": {
     "iopub.execute_input": "2022-12-17T02:02:03.774114Z",
     "iopub.status.busy": "2022-12-17T02:02:03.773694Z",
     "iopub.status.idle": "2022-12-17T02:02:03.918827Z",
     "shell.execute_reply": "2022-12-17T02:02:03.917202Z"
    },
    "papermill": {
     "duration": 0.183931,
     "end_time": "2022-12-17T02:02:03.922233",
     "exception": false,
     "start_time": "2022-12-17T02:02:03.738302",
     "status": "completed"
    },
    "tags": []
   },
   "outputs": [
    {
     "data": {
      "text/plain": [
       "array([[ -178.27106  ,  -352.2696   ,   -56.5412   ,  -313.8241   ,\n",
       "         -323.23187  ,   400.12927  ,    57.29184  ,   397.98734  ,\n",
       "          138.02147  ,   520.7953   ],\n",
       "       [  483.5866   ,  -259.13992  ,   261.99307  ,   162.70203  ,\n",
       "          -64.37854  , -1132.5696   ,   322.9968   , -1762.3112   ,\n",
       "            6.28126  ,  -608.9262   ],\n",
       "       [  158.98639  ,    34.303745 ,   118.44884  ,   181.05148  ,\n",
       "           97.06449  ,  -429.68903  ,   120.14782  ,  -493.3461   ,\n",
       "          -23.111223 ,  -178.54115  ],\n",
       "       [  236.58534  ,     6.987882 ,   175.65671  ,   239.87036  ,\n",
       "          106.438576 ,  -718.71576  ,   228.96819  ,  -948.99744  ,\n",
       "          -40.563725 ,  -514.9191   ],\n",
       "       [  339.1899   ,   169.60066  ,   220.80798  ,   364.8426   ,\n",
       "          183.83974  ,  -935.3348   ,   255.35515  ,  -738.4814   ,\n",
       "          103.464836 ,  -679.0573   ],\n",
       "       [  305.46646  ,    23.725668 ,   427.60812  ,    83.53412  ,\n",
       "          226.89204  ,  -758.71344  ,   317.311    , -1460.2928   ,\n",
       "           94.17406  ,  -831.52106  ],\n",
       "       [ -139.31425  ,  -184.85916  ,   -39.62043  ,   -96.957886 ,\n",
       "         -217.77513  ,   313.0893   ,  -109.24284  ,   302.39594  ,\n",
       "          166.28934  ,    95.48985  ],\n",
       "       [  274.51926  ,   -66.77554  ,   391.96487  ,  -100.607124 ,\n",
       "          238.93858  ,  -970.5765   ,   256.60568  , -1641.8813   ,\n",
       "          135.6428   ,  -490.71637  ],\n",
       "       [   26.178783 ,  -345.4175   ,  -144.42464  ,  -157.05037  ,\n",
       "         -240.12532  ,   390.307    ,   -16.576385 ,    19.637552 ,\n",
       "          -78.463875 ,   209.88173  ],\n",
       "       [   48.453438 ,  -143.15363  ,     2.9003112,   -79.82552  ,\n",
       "         -145.91502  ,   761.6554   ,   131.69902  ,    18.237558 ,\n",
       "          173.47891  ,   237.83199  ]], dtype=float32)"
      ]
     },
     "execution_count": 14,
     "metadata": {},
     "output_type": "execute_result"
    }
   ],
   "source": [
    "# Prediction: Keras expects multiple datapoints when predicting\n",
    "# if we want to predict on a single point, first convert to batch of 1 dp\n",
    "model.predict(train_images[0:10])"
   ]
  },
  {
   "cell_type": "code",
   "execution_count": 15,
   "id": "5f90b9f6",
   "metadata": {
    "execution": {
     "iopub.execute_input": "2022-12-17T02:02:03.998576Z",
     "iopub.status.busy": "2022-12-17T02:02:03.998037Z",
     "iopub.status.idle": "2022-12-17T02:02:04.581761Z",
     "shell.execute_reply": "2022-12-17T02:02:04.580109Z"
    },
    "papermill": {
     "duration": 0.626322,
     "end_time": "2022-12-17T02:02:04.584577",
     "exception": false,
     "start_time": "2022-12-17T02:02:03.958255",
     "status": "completed"
    },
    "tags": []
   },
   "outputs": [
    {
     "data": {
      "image/png": "[encoded data removed]",
      "text/plain": [
       "<Figure size 432x288 with 2 Axes>"
      ]
     },
     "metadata": {
      "needs_background": "light"
     },
     "output_type": "display_data"
    },
    {
     "data": {
      "image/png": "[encoded data removed]",
      "text/plain": [
       "<Figure size 432x288 with 1 Axes>"
      ]
     },
     "metadata": {
      "needs_background": "light"
     },
     "output_type": "display_data"
    },
    {
     "name": "stdout",
     "output_type": "stream",
     "text": [
      "0\n"
     ]
    }
   ],
   "source": [
    "data_idx = 6969\n",
    "\n",
    "plt.figure()\n",
    "plt.imshow(train_images[data_idx], cmap='gray')\n",
    "plt.colorbar()\n",
    "plt.grid(False)\n",
    "plt.show()\n",
    "\n",
    "x_values = range(number_of_classes)\n",
    "plt.figure\n",
    "plt.bar(x_values, model.predict(train_images[data_idx:data_idx+1]).flatten())\n",
    "plt.xticks(range(10))\n",
    "plt.show()\n",
    "\n",
    "print(train_labels[data_idx])"
   ]
  }
 ],
 "metadata": {
  "kernelspec": {
   "display_name": "Python 3",
   "language": "python",
   "name": "python3"
  },
  "language_info": {
   "codemirror_mode": {
    "name": "ipython",
    "version": 3
   },
   "file_extension": ".py",
   "mimetype": "text/x-python",
   "name": "python",
   "nbconvert_exporter": "python",
   "pygments_lexer": "ipython3",
   "version": "3.7.12"
  },
  "papermill": {
   "default_parameters": {},
   "duration": 51.198497,
   "end_time": "2022-12-17T02:02:07.631394",
   "environment_variables": {},
   "exception": null,
   "input_path": "__notebook__.ipynb",
   "output_path": "__notebook__.ipynb",
   "parameters": {},
   "start_time": "2022-12-17T02:01:16.432897",
   "version": "2.3.4"
  }
 },
 "nbformat": 4,
 "nbformat_minor": 5
}
